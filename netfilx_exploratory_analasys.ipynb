{
 "cells": [
  {
   "cell_type": "markdown",
   "metadata": {
    "id": "1L-JDS5TFYfr"
   },
   "source": [
    "## Notebook Imports"
   ]
  },
  {
   "cell_type": "code",
   "execution_count": null,
   "metadata": {
    "execution": {
     "iopub.execute_input": "2023-12-29T18:33:10.178538Z",
     "iopub.status.busy": "2023-12-29T18:33:10.177657Z",
     "iopub.status.idle": "2023-12-29T18:33:10.184551Z",
     "shell.execute_reply": "2023-12-29T18:33:10.183611Z",
     "shell.execute_reply.started": "2023-12-29T18:33:10.178493Z"
    },
    "id": "apWkY1bxGAmX",
    "trusted": true
   },
   "outputs": [],
   "source": [
    "import pandas as pd\n",
    "import numpy as np\n",
    "import matplotlib.pyplot as plt\n",
    "import seaborn as sns\n",
    "import plotly.express as px\n",
    "\n",
    "sns.set_style('whitegrid')"
   ]
  },
  {
   "cell_type": "markdown",
   "metadata": {
    "id": "r7nQfwEbFJBP"
   },
   "source": [
    "## Section: Data Analysis\n",
    "In this section, I'll conduct a comprehensive analysis of the dataset. We'll explore and visualize the data to gain insights and a better understanding of its characteristics.\n",
    "\n",
    "### 1.1 Exploratory Data Analysis (EDA)\n",
    "- **Data Loading:** Load the dataset into the notebook.\n",
    "- **Data Inspection:** Examine the structure and content of the dataset.\n",
    "- **Descriptive Statistics:** Calculate and analyze basic statistics to summarize key features.\n",
    "\n",
    "### 1.2 Data Visualization\n",
    "\n",
    "- **Distribution Plots:** Visualize the distribution of key variables.\n",
    "- **Correlation Analysis:** Explore relationships between different features.\n",
    "\n",
    "### 1.3 Key Findings\n",
    "\n",
    "- **Summarize** the key findings from the data analysis.\n",
    "\n",
    "---\n",
    "\n",
    "---"
   ]
  },
  {
   "cell_type": "code",
   "execution_count": null,
   "metadata": {
    "execution": {
     "iopub.execute_input": "2023-12-29T18:33:10.186911Z",
     "iopub.status.busy": "2023-12-29T18:33:10.186201Z",
     "iopub.status.idle": "2023-12-29T18:33:10.294761Z",
     "shell.execute_reply": "2023-12-29T18:33:10.293909Z",
     "shell.execute_reply.started": "2023-12-29T18:33:10.186879Z"
    },
    "id": "aetgu70AGAoc",
    "outputId": "2380b88c-728f-4453-d3dd-97002d623a18",
    "trusted": true
   },
   "outputs": [],
   "source": [
    "df = pd.read_csv('Netflix_Engagement.csv')\n",
    "df.head()"
   ]
  },
  {
   "cell_type": "code",
   "execution_count": null,
   "metadata": {
    "execution": {
     "iopub.execute_input": "2023-12-29T18:33:10.296474Z",
     "iopub.status.busy": "2023-12-29T18:33:10.296154Z",
     "iopub.status.idle": "2023-12-29T18:33:10.30525Z",
     "shell.execute_reply": "2023-12-29T18:33:10.304407Z",
     "shell.execute_reply.started": "2023-12-29T18:33:10.296448Z"
    },
    "id": "-cZcnu7YGAsH",
    "outputId": "680a88d4-9840-4799-afde-aedc955d6695",
    "trusted": true
   },
   "outputs": [],
   "source": [
    "# Dimension of the dataset\n",
    "df.shape"
   ]
  },
  {
   "cell_type": "code",
   "execution_count": null,
   "metadata": {
    "execution": {
     "iopub.execute_input": "2023-12-29T18:33:10.308218Z",
     "iopub.status.busy": "2023-12-29T18:33:10.307464Z",
     "iopub.status.idle": "2023-12-29T18:33:10.329859Z",
     "shell.execute_reply": "2023-12-29T18:33:10.328822Z",
     "shell.execute_reply.started": "2023-12-29T18:33:10.308189Z"
    },
    "id": "J4QICKvBGpA3",
    "outputId": "89250ad3-4141-49d1-d2a2-9bc5c961919f",
    "trusted": true
   },
   "outputs": [],
   "source": [
    "df.info()"
   ]
  },
  {
   "cell_type": "code",
   "execution_count": null,
   "metadata": {
    "execution": {
     "iopub.execute_input": "2023-12-29T18:33:10.332069Z",
     "iopub.status.busy": "2023-12-29T18:33:10.331539Z",
     "iopub.status.idle": "2023-12-29T18:33:10.353156Z",
     "shell.execute_reply": "2023-12-29T18:33:10.351971Z",
     "shell.execute_reply.started": "2023-12-29T18:33:10.33204Z"
    },
    "id": "_7qIGu8yGycV",
    "outputId": "5f9d0459-a070-4e27-bdc0-6c316da2c714",
    "trusted": true
   },
   "outputs": [],
   "source": [
    "# % of the missing values.\n",
    "df.isnull().sum() / df.shape[0] * 100"
   ]
  },
  {
   "cell_type": "code",
   "execution_count": null,
   "metadata": {
    "execution": {
     "iopub.execute_input": "2023-12-29T18:33:10.355715Z",
     "iopub.status.busy": "2023-12-29T18:33:10.3549Z",
     "iopub.status.idle": "2023-12-29T18:33:10.380026Z",
     "shell.execute_reply": "2023-12-29T18:33:10.379396Z",
     "shell.execute_reply.started": "2023-12-29T18:33:10.355688Z"
    },
    "id": "K7LqaqMeIsQn",
    "outputId": "c111bc58-7b9d-482b-fcd3-076e008362da",
    "trusted": true
   },
   "outputs": [],
   "source": [
    "df.describe().T"
   ]
  },
  {
   "cell_type": "code",
   "execution_count": null,
   "metadata": {
    "execution": {
     "iopub.execute_input": "2023-12-29T18:33:10.381741Z",
     "iopub.status.busy": "2023-12-29T18:33:10.380924Z",
     "iopub.status.idle": "2023-12-29T18:33:10.440308Z",
     "shell.execute_reply": "2023-12-29T18:33:10.439448Z",
     "shell.execute_reply.started": "2023-12-29T18:33:10.381716Z"
    },
    "id": "j8Gw2eEfKaRh",
    "outputId": "d19d5eca-7136-4295-f8a0-5f903dad7ed6",
    "trusted": true
   },
   "outputs": [],
   "source": [
    "df.describe(include='O').T"
   ]
  },
  {
   "cell_type": "markdown",
   "metadata": {
    "id": "ZSMcke2VmyuZ"
   },
   "source": [
    "## **Movies Available Globally**"
   ]
  },
  {
   "cell_type": "markdown",
   "metadata": {
    "id": "BZ0kxCw1KwbP"
   },
   "source": [
    "Let's find out how many movies are accessible globally."
   ]
  },
  {
   "cell_type": "code",
   "execution_count": null,
   "metadata": {
    "execution": {
     "iopub.execute_input": "2023-12-29T18:33:10.44377Z",
     "iopub.status.busy": "2023-12-29T18:33:10.443064Z",
     "iopub.status.idle": "2023-12-29T18:33:10.453624Z",
     "shell.execute_reply": "2023-12-29T18:33:10.452606Z",
     "shell.execute_reply.started": "2023-12-29T18:33:10.443745Z"
    },
    "id": "Xv9oymfYN9NL",
    "outputId": "f9848a87-9dbd-4474-fb6f-1535a38d0780",
    "trusted": true
   },
   "outputs": [],
   "source": [
    "df['Available Globally?'].value_counts()"
   ]
  },
  {
   "cell_type": "code",
   "execution_count": null,
   "metadata": {
    "execution": {
     "iopub.execute_input": "2023-12-29T18:33:10.454663Z",
     "iopub.status.busy": "2023-12-29T18:33:10.454413Z",
     "iopub.status.idle": "2023-12-29T18:33:10.62864Z",
     "shell.execute_reply": "2023-12-29T18:33:10.627569Z",
     "shell.execute_reply.started": "2023-12-29T18:33:10.454642Z"
    },
    "id": "t_Pmng6QKkI5",
    "outputId": "d5589592-6aaf-461d-9ad4-dc523810a2a4",
    "trusted": true
   },
   "outputs": [],
   "source": [
    "custom_colors = ['#48dbfb', '#9980FA']\n",
    "plt.pie(df['Available Globally?'].value_counts()/df.shape[0],\n",
    "        autopct='%1.1f%%', labels=df['Available Globally?']\\\n",
    "        .value_counts().index, colors=custom_colors, explode=[0.05, 0.05],\n",
    "        shadow=True, startangle=90)\n",
    "plt.show()"
   ]
  },
  {
   "cell_type": "markdown",
   "metadata": {
    "id": "lt0xeqqKOOCM"
   },
   "source": [
    "Here, we can see that a considerable number of movies are not globally accessible, and this can be attributed to factors such as regional licensing restrictions, content distribution agreements, and cultural sensitivities that influence availability in certain areas."
   ]
  },
  {
   "cell_type": "markdown",
   "metadata": {
    "id": "umU2r9l3mwEE"
   },
   "source": [
    "## **Ratings**"
   ]
  },
  {
   "cell_type": "code",
   "execution_count": null,
   "metadata": {
    "execution": {
     "iopub.execute_input": "2023-12-29T18:33:10.634115Z",
     "iopub.status.busy": "2023-12-29T18:33:10.633574Z",
     "iopub.status.idle": "2023-12-29T18:33:11.242332Z",
     "shell.execute_reply": "2023-12-29T18:33:11.241093Z",
     "shell.execute_reply.started": "2023-12-29T18:33:10.634076Z"
    },
    "id": "OExaLZKRLkyM",
    "outputId": "0fbf9775-6530-473a-ff43-e7df53de5d2c",
    "trusted": true
   },
   "outputs": [],
   "source": [
    "sns.histplot(df['Rating'], bins=20, kde=True)\n",
    "plt.axvline(x=np.mean(df.Rating), color='r', label='Mean', linestyle='dashed')\n",
    "plt.title('Distribution of Rating')\n",
    "plt.legend()\n",
    "plt.show()"
   ]
  },
  {
   "cell_type": "markdown",
   "metadata": {
    "id": "7mwvvEv_RSPa"
   },
   "source": [
    "\n",
    "\n",
    "The histogram of 'Rating' data shows a distribution that is not symmetrical but slightly skewed to the left, indicating that the ratings are on the lower side of the scale. The skewness of the data suggests that the mean might not be the best measure of central tendency for imputing missing values, especially since the mean is more influenced by outliers and extreme values.\n",
    "\n",
    "Additionally, given that a considerable 22% of the data is missing, using the mean to fill in these gaps could artificially deflate the variability and potentially bias any subsequent analysis. The mean is a good choice when the data is normally distributed and the percentage of missing values is small; however, neither condition appears to be met in this case.\n",
    "\n",
    "The median, on the other hand, is a better choice for skewed distributions"
   ]
  },
  {
   "cell_type": "code",
   "execution_count": null,
   "metadata": {
    "execution": {
     "iopub.execute_input": "2023-12-29T18:33:11.244015Z",
     "iopub.status.busy": "2023-12-29T18:33:11.243632Z",
     "iopub.status.idle": "2023-12-29T18:33:11.25154Z",
     "shell.execute_reply": "2023-12-29T18:33:11.250222Z",
     "shell.execute_reply.started": "2023-12-29T18:33:11.243978Z"
    },
    "id": "FIksUPSbQqX9",
    "trusted": true
   },
   "outputs": [],
   "source": [
    "#Imputing missing  \"Rating\" values with the median\n",
    "df['Rating'] = df['Rating'].fillna(df['Rating'].median())"
   ]
  },
  {
   "cell_type": "markdown",
   "metadata": {
    "id": "akJYu-aEmr3N"
   },
   "source": [
    "## **Ratings vs Hours Viewed**"
   ]
  },
  {
   "cell_type": "code",
   "execution_count": null,
   "metadata": {
    "execution": {
     "iopub.execute_input": "2023-12-29T18:33:11.252827Z",
     "iopub.status.busy": "2023-12-29T18:33:11.252566Z",
     "iopub.status.idle": "2023-12-29T18:33:15.846326Z",
     "shell.execute_reply": "2023-12-29T18:33:15.845341Z",
     "shell.execute_reply.started": "2023-12-29T18:33:11.252803Z"
    },
    "id": "Ce6vMGprXLPp",
    "outputId": "0308f4d7-1ddc-4ec5-ab8b-00523a1126b6",
    "trusted": true
   },
   "outputs": [],
   "source": [
    "fig = px.scatter(\n",
    "    df, x='Number of Ratings',\n",
    "    y='Hours Viewed', color='Rating',\n",
    "    size='Rating', trendline='lowess',\n",
    "    width=700\n",
    ")\n",
    "\n",
    "fig.show()"
   ]
  },
  {
   "cell_type": "markdown",
   "metadata": {
    "id": "oQhQ0e_MwJdq"
   },
   "source": [
    "\n",
    "\n",
    "* The scatter plot visualizes the relationship between the number of ratings and hours viewed for a collection of content. The data is heavily concentrated at the lower end of the ratings scale, suggesting that most content has fewer ratings.\n",
    "\n",
    "* Interestingly, there is a trend where content with fewer ratings has higher total viewership hours, indicated by a cluster of points with large 'Hours Viewed' values at the lower 'Number of Ratings' range. This could imply that less-rated content might have broad viewership but low viewer engagement in terms of leaving a rating.\n",
    "\n",
    "* Outliers with exceptionally high viewership deviate from the general trend."
   ]
  },
  {
   "cell_type": "markdown",
   "metadata": {
    "id": "wNENuYvcg5IC"
   },
   "source": [
    "## **Movies with exceptionally high or low viewing hours.**"
   ]
  },
  {
   "cell_type": "code",
   "execution_count": null,
   "metadata": {
    "execution": {
     "iopub.execute_input": "2023-12-29T18:33:15.84791Z",
     "iopub.status.busy": "2023-12-29T18:33:15.847631Z",
     "iopub.status.idle": "2023-12-29T18:33:17.326146Z",
     "shell.execute_reply": "2023-12-29T18:33:17.325205Z",
     "shell.execute_reply.started": "2023-12-29T18:33:15.847885Z"
    },
    "id": "VAZvSxb7v_e_",
    "outputId": "d571bd39-885c-45e2-9b47-570654da3743",
    "trusted": true
   },
   "outputs": [],
   "source": [
    "sns.displot(df['Hours Viewed'], log_scale=True, kde=True, color='green')\n",
    "plt.title('Distribution of Hours Viewed', fontsize=14)\n",
    "plt.show()"
   ]
  },
  {
   "cell_type": "markdown",
   "metadata": {
    "id": "eXGe5yvxjH-N"
   },
   "source": [
    "The high count in the first few bins suggests that most entities (which could be videos, channels, shows, etc.) have a relatively small number of hours viewed, with progressively fewer entities reaching higher hours viewed.\n"
   ]
  },
  {
   "cell_type": "code",
   "execution_count": null,
   "metadata": {
    "execution": {
     "iopub.execute_input": "2023-12-29T18:33:17.327628Z",
     "iopub.status.busy": "2023-12-29T18:33:17.327326Z",
     "iopub.status.idle": "2023-12-29T18:33:17.345313Z",
     "shell.execute_reply": "2023-12-29T18:33:17.344605Z",
     "shell.execute_reply.started": "2023-12-29T18:33:17.327602Z"
    },
    "id": "b7hOlvFmgroJ",
    "outputId": "86ad626f-a15c-4e8a-c59b-c7cb604d133a",
    "trusted": true
   },
   "outputs": [],
   "source": [
    "# Top 5 record based on Hours Viewed\n",
    "top_5_hours_viewed = df.nlargest(5, 'Hours Viewed')\n",
    "top_5_hours_viewed[['Title', 'Genre', 'Rating', 'Hours Viewed']]"
   ]
  },
  {
   "cell_type": "code",
   "execution_count": null,
   "metadata": {
    "execution": {
     "iopub.execute_input": "2023-12-29T18:33:17.347049Z",
     "iopub.status.busy": "2023-12-29T18:33:17.346325Z",
     "iopub.status.idle": "2023-12-29T18:33:17.363207Z",
     "shell.execute_reply": "2023-12-29T18:33:17.362282Z",
     "shell.execute_reply.started": "2023-12-29T18:33:17.347022Z"
    },
    "id": "WYWK4WP1hK0u",
    "outputId": "ea4d5d52-ef74-48e4-d1e6-77936040633d",
    "trusted": true
   },
   "outputs": [],
   "source": [
    "bottom_5_hours_viewed = df.nsmallest(5, 'Hours Viewed')\n",
    "bottom_5_hours_viewed[['Title', 'Genre', 'Rating', 'Hours Viewed']]"
   ]
  },
  {
   "cell_type": "markdown",
   "metadata": {
    "id": "WiLYlcOvjtwr"
   },
   "source": [
    "It appears that some movies with a substantial number of viewing hours receive poor ratings, while others with relatively fewer viewing hours attain similar ratings. This suggests that the movies might be widely watched due to their popularity, but their quality may not be commensurate with their high viewership, resulting in lower ratings."
   ]
  },
  {
   "cell_type": "markdown",
   "metadata": {
    "id": "ZYFfpa1Wko1O"
   },
   "source": [
    "## **Top-10 Best & Worst-Rated Movies**"
   ]
  },
  {
   "cell_type": "code",
   "execution_count": null,
   "metadata": {
    "execution": {
     "iopub.execute_input": "2023-12-29T18:33:17.364659Z",
     "iopub.status.busy": "2023-12-29T18:33:17.364283Z",
     "iopub.status.idle": "2023-12-29T18:33:17.471218Z",
     "shell.execute_reply": "2023-12-29T18:33:17.470278Z",
     "shell.execute_reply.started": "2023-12-29T18:33:17.364634Z"
    },
    "id": "tNVATl7KiGKV",
    "outputId": "8a981f59-4c3d-4aa8-eb66-1d2b6f27f8bc",
    "trusted": true
   },
   "outputs": [],
   "source": [
    "top10 = df.nlargest(10, 'Rating')[['Title', 'Rating', 'Genre', 'Hours Viewed']]\n",
    "fig = px.bar(top10, x='Title', y='Rating', color='Genre',\n",
    "             hover_data='Hours Viewed', title='Top-Rated Movies',\n",
    "             width=1000, height=700)\n",
    "fig.show()"
   ]
  },
  {
   "cell_type": "code",
   "execution_count": null,
   "metadata": {
    "execution": {
     "iopub.execute_input": "2023-12-29T18:33:17.472905Z",
     "iopub.status.busy": "2023-12-29T18:33:17.4726Z",
     "iopub.status.idle": "2023-12-29T18:33:17.572062Z",
     "shell.execute_reply": "2023-12-29T18:33:17.571191Z",
     "shell.execute_reply.started": "2023-12-29T18:33:17.47288Z"
    },
    "id": "T1MSF8wFlLsu",
    "outputId": "b209ee66-9288-489f-d82a-e6dca4203335",
    "trusted": true
   },
   "outputs": [],
   "source": [
    "worst_rated = df.nsmallest(10, 'Rating')[['Title', 'Rating', 'Genre', 'Hours Viewed']]\n",
    "fig = px.bar(worst_rated, x='Title', y='Rating',\n",
    "             hover_data=['Hours Viewed'], color='Genre',\n",
    "             title='Worst-Rated Movies', width=800)\n",
    "fig.show()"
   ]
  },
  {
   "cell_type": "markdown",
   "metadata": {
    "id": "pkQ42km_pL_z"
   },
   "source": [
    "## Correlation between different Numerical Columns"
   ]
  },
  {
   "cell_type": "code",
   "execution_count": null,
   "metadata": {
    "execution": {
     "iopub.execute_input": "2023-12-29T18:33:17.573588Z",
     "iopub.status.busy": "2023-12-29T18:33:17.573281Z",
     "iopub.status.idle": "2023-12-29T18:33:17.946669Z",
     "shell.execute_reply": "2023-12-29T18:33:17.945631Z",
     "shell.execute_reply.started": "2023-12-29T18:33:17.573562Z"
    },
    "id": "p9RjYpAapGKF",
    "outputId": "e621585f-7b63-4565-8527-7c8253270526",
    "trusted": true
   },
   "outputs": [],
   "source": [
    "numeric_cols = ['Hours Viewed', 'Rating', 'Number of Ratings']\n",
    "corr_matrix = df.loc[:, numeric_cols].corr()\n",
    "mask = np.triu(np.ones_like(corr_matrix), k=1)\n",
    "sns.heatmap(corr_matrix, annot=True, fmt=\".2f\", cmap=\"coolwarm\",\n",
    "            xticklabels=numeric_cols,\n",
    "            yticklabels=numeric_cols,\n",
    "            mask=mask)"
   ]
  },
  {
   "cell_type": "markdown",
   "metadata": {
    "id": "ujb7UEeXnGAW"
   },
   "source": [
    "## **Most Prevalent Genres**"
   ]
  },
  {
   "cell_type": "code",
   "execution_count": null,
   "metadata": {
    "execution": {
     "iopub.execute_input": "2023-12-29T18:33:17.948794Z",
     "iopub.status.busy": "2023-12-29T18:33:17.948062Z",
     "iopub.status.idle": "2023-12-29T18:33:17.96523Z",
     "shell.execute_reply": "2023-12-29T18:33:17.964514Z",
     "shell.execute_reply.started": "2023-12-29T18:33:17.948764Z"
    },
    "id": "UDtbvS1-puHz",
    "trusted": true
   },
   "outputs": [],
   "source": [
    "top_genres = df.groupby('Genre').size().nlargest(10).reset_index(name='Count')\n",
    "top_genres_hours_viewed = df[df['Genre'].isin(top_genres['Genre'])].groupby('Genre')['Hours Viewed'].sum().reset_index()"
   ]
  },
  {
   "cell_type": "code",
   "execution_count": null,
   "metadata": {
    "execution": {
     "iopub.execute_input": "2023-12-29T18:33:17.966975Z",
     "iopub.status.busy": "2023-12-29T18:33:17.966694Z",
     "iopub.status.idle": "2023-12-29T18:33:18.074653Z",
     "shell.execute_reply": "2023-12-29T18:33:18.073883Z",
     "shell.execute_reply.started": "2023-12-29T18:33:17.96695Z"
    },
    "id": "8bYBSNH4fAtd",
    "outputId": "81859156-48d4-4429-fe08-3ff5f28a4cdb",
    "trusted": true
   },
   "outputs": [],
   "source": [
    "fig = px.bar(top_genres_hours_viewed, x='Hours Viewed', y='Genre', color='Genre',\n",
    "             title='Total Hours Viewed for Top 10 Genres by Number of Entries', \n",
    "             width=1000)\n",
    "fig.update_layout(showlegend=False)\n",
    "fig.show()"
   ]
  },
  {
   "cell_type": "markdown",
   "metadata": {
    "id": "SM7VI6vJd_-E"
   },
   "source": [
    "Here, we can observe that short films tend to attract the most viewership, as people appreciate the time-saving aspect while still enjoying the entertainment provided."
   ]
  },
  {
   "cell_type": "markdown",
   "metadata": {
    "id": "zLslHwu-nTt3"
   },
   "source": [
    "## **Movies Released in the first half of 2023**"
   ]
  },
  {
   "cell_type": "code",
   "execution_count": null,
   "metadata": {
    "execution": {
     "iopub.execute_input": "2023-12-29T18:33:18.076201Z",
     "iopub.status.busy": "2023-12-29T18:33:18.075768Z",
     "iopub.status.idle": "2023-12-29T18:33:18.101944Z",
     "shell.execute_reply": "2023-12-29T18:33:18.101172Z",
     "shell.execute_reply.started": "2023-12-29T18:33:18.076174Z"
    },
    "id": "8hbUivquqg0-",
    "outputId": "efc5877c-70d6-4e04-886b-faa4b4958694",
    "trusted": true
   },
   "outputs": [],
   "source": [
    "# Movies Released in 2023\n",
    "df['Release Date'] = pd.to_datetime(df['Release Date'])\n",
    "movies_in_2023 = df[df['Release Date'].dt.year == 2023]\n",
    "movies_in_2023.head()"
   ]
  },
  {
   "cell_type": "code",
   "execution_count": null,
   "metadata": {
    "execution": {
     "iopub.execute_input": "2023-12-29T18:33:18.103484Z",
     "iopub.status.busy": "2023-12-29T18:33:18.103186Z",
     "iopub.status.idle": "2023-12-29T18:33:18.109401Z",
     "shell.execute_reply": "2023-12-29T18:33:18.108409Z",
     "shell.execute_reply.started": "2023-12-29T18:33:18.103457Z"
    },
    "id": "czPT2yR-ngA-",
    "outputId": "b2a249e0-f4e6-4c81-b4dc-c03c14d37b74",
    "trusted": true
   },
   "outputs": [],
   "source": [
    "movies_in_2023.shape"
   ]
  },
  {
   "cell_type": "markdown",
   "metadata": {
    "id": "BPKie_wLtT1Z"
   },
   "source": [
    "The dataset specifically covers the initial half of 2023, and within this timeframe, a noteworthy 335 movies have been released."
   ]
  },
  {
   "cell_type": "code",
   "execution_count": null,
   "metadata": {
    "execution": {
     "iopub.execute_input": "2023-12-29T18:33:18.110897Z",
     "iopub.status.busy": "2023-12-29T18:33:18.110631Z",
     "iopub.status.idle": "2023-12-29T18:33:19.957192Z",
     "shell.execute_reply": "2023-12-29T18:33:19.956276Z",
     "shell.execute_reply.started": "2023-12-29T18:33:18.110873Z"
    },
    "id": "7cNlOJ8vtiqT",
    "outputId": "c4672a2b-7106-460d-cc52-e16e7acce32e",
    "trusted": true
   },
   "outputs": [],
   "source": [
    "fig = px.scatter(movies_in_2023, x='Release Date', y='Rating', color_continuous_scale='oranges',\n",
    "                 title='Ratings of Films Released in 2023', hover_data=['Title'], color='Title',\n",
    "                 labels={'Rating': 'Rating', 'Release Date': 'Release Date'}, width=900)\n",
    "\n",
    "fig.update_layout(\n",
    "    showlegend=False\n",
    ")\n",
    "\n",
    "fig.show()"
   ]
  },
  {
   "cell_type": "markdown",
   "metadata": {
    "id": "pWaN_DI8w5-W"
   },
   "source": [
    "* The ratings are quite spread out, suggesting a variety of opinions on the films released.\n",
    "* Most ratings seem to fall between 5 and 8, suggesting that most films are considered average to good.\n",
    "* There are a few points at the very top and bottom, indicating some exceptional and poorly received films, respectively."
   ]
  },
  {
   "cell_type": "code",
   "execution_count": null,
   "metadata": {
    "execution": {
     "iopub.execute_input": "2023-12-29T18:33:19.958774Z",
     "iopub.status.busy": "2023-12-29T18:33:19.958491Z",
     "iopub.status.idle": "2023-12-29T18:33:23.243304Z",
     "shell.execute_reply": "2023-12-29T18:33:23.242507Z",
     "shell.execute_reply.started": "2023-12-29T18:33:19.958749Z"
    },
    "id": "3xQbPKki42LU",
    "outputId": "cce5dc8e-47b2-44b9-ee5a-edc6895c79a2",
    "trusted": true
   },
   "outputs": [],
   "source": [
    "plt.figure(figsize=(10, 6))\n",
    "sns.lineplot(x='Release Date', y='Hours Viewed', data=movies_in_2023)\n",
    "plt.title('Time Trend of Hours Viewed in 2023')\n",
    "plt.show()"
   ]
  }
 ],
 "metadata": {
  "colab": {
   "provenance": []
  },
  "kaggle": {
   "accelerator": "none",
   "dataSources": [
    {
     "datasetId": 4170814,
     "sourceId": 7208762,
     "sourceType": "datasetVersion"
    }
   ],
   "dockerImageVersionId": 30626,
   "isGpuEnabled": false,
   "isInternetEnabled": false,
   "language": "python",
   "sourceType": "notebook"
  },
  "kernelspec": {
   "display_name": "venv",
   "language": "python",
   "name": "python3"
  },
  "language_info": {
   "codemirror_mode": {
    "name": "ipython",
    "version": 3
   },
   "file_extension": ".py",
   "mimetype": "text/x-python",
   "name": "python",
   "nbconvert_exporter": "python",
   "pygments_lexer": "ipython3",
   "version": "3.13.2"
  }
 },
 "nbformat": 4,
 "nbformat_minor": 4
}
