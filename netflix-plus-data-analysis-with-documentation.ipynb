{
 "cells": [
  {
   "cell_type": "markdown",
   "metadata": {},
   "source": [
    "# Netflix Engagement (Jan - Jun 23) +\n",
    "#### Netflix Engagement data Supplemented with IMDB data\n",
    "\n",
    "**About Dataset**\n",
    "\n",
    "Netflix published the first half of 2023 engagement data. This included the hours viewed (rounded to 100,000 hours), the premiere data and whether the title was available globally for Netflix TV series or films.\n",
    "\n",
    "The dataset aims to supplement this with information scraped from IMDB, including ratings and a brief description.\n",
    "The dataset includes a genre column containing Python list syntax."
   ]
  },
  {
   "cell_type": "markdown",
   "metadata": {},
   "source": [
    "In this data set there are several columns that contain differnt sleep pattern data of each indivisuals. The columns are as follow:\n",
    "\n",
    "1. **Title:** Title of the movie or series.\n",
    "2. **Available Globally?:** Is the show available globally or not. Yes or No.\n",
    "3. **Release Date:** Release date of the show.\n",
    "4. **Hours Viewed:** Hours viewrship of the show.\n",
    "5. **Number of Ratings:** Total nos. of ***IMDB*** users who rated the show/movie.\n",
    "6. **Rating:** Audience rating of the show/movie.\n",
    "7. **Genre:** Genre of the show/movie, Which type of movie/show is this.\n",
    "8. **Key Words:** Keyword for the movie/show which fited the most for it.\n",
    "9. **Description:** A small description or summary of the show or movie.\n",
    "\n",
    "Click [here](https://www.kaggle.com/datasets/vassyesboy/netflix-engagement-jan-jun-23) to vist the dataset of the kaggle website. To find out more."
   ]
  },
  {
   "cell_type": "markdown",
   "metadata": {},
   "source": [
    "## Table of Contents\n",
    "1. [Chapter 1 - Define the Problem](#ch1)\n",
    "1. [Chapter 2 - Importing Libraries](#ch2)\n",
    "1. [Chapter 3 - Look at Dataset](#ch3)\n",
    "1. [Chapter 4 - Look Deep Into the Dataset](#ch4)\n",
    "1. [Chapter 5 - Change/modify the Dataset](#ch5)\n",
    "1. [Chapter 6 - Fill/delete NaN/null valueus](#ch6)\n",
    "1. [Chapter 7 - Analysis from the Dataset](#ch7)\n",
    "1. [Chapter 8 - Visualization](#ch8)\n",
    "1. [Chapter 9 - Conclusion](#ch9)"
   ]
  },
  {
   "cell_type": "markdown",
   "metadata": {},
   "source": [
    "<a id=\"ch1\"></a>\n",
    "### 1. Define the Problem:\n",
    "\n",
    "In this project we are goning to use Netflix's data to find out some intresting statistics about the shows and many more features like most liked movie, most liked genre and etc."
   ]
  },
  {
   "cell_type": "markdown",
   "metadata": {},
   "source": [
    "<a id=\"ch2\"></a>\n",
    "### 2. Importing Libraries:\n",
    "The following *libraries* are needed to understand the data and use the data to play with the dataset to get some answers."
   ]
  },
  {
   "cell_type": "code",
   "execution_count": null,
   "metadata": {
    "execution": {
     "iopub.execute_input": "2024-01-07T08:32:18.376004Z",
     "iopub.status.busy": "2024-01-07T08:32:18.375552Z",
     "iopub.status.idle": "2024-01-07T08:32:18.769559Z",
     "shell.execute_reply": "2024-01-07T08:32:18.768856Z",
     "shell.execute_reply.started": "2024-01-07T08:32:18.37597Z"
    },
    "trusted": true
   },
   "outputs": [
    {
     "name": "stdout",
     "output_type": "stream",
     "text": [
      "\u001b[1;31merror\u001b[0m: \u001b[1mexternally-managed-environment\u001b[0m\n",
      "\n",
      "\u001b[31m×\u001b[0m This environment is externally managed\n",
      "\u001b[31m╰─>\u001b[0m To install Python packages system-wide, try 'pacman -S\n",
      "\u001b[31m   \u001b[0m python-xyz', where xyz is the package you are trying to\n",
      "\u001b[31m   \u001b[0m install.\n",
      "\u001b[31m   \u001b[0m \n",
      "\u001b[31m   \u001b[0m If you wish to install a non-Arch-packaged Python package,\n",
      "\u001b[31m   \u001b[0m create a virtual environment using 'python -m venv path/to/venv'.\n",
      "\u001b[31m   \u001b[0m Then use path/to/venv/bin/python and path/to/venv/bin/pip.\n",
      "\u001b[31m   \u001b[0m \n",
      "\u001b[31m   \u001b[0m If you wish to install a non-Arch packaged Python application,\n",
      "\u001b[31m   \u001b[0m it may be easiest to use 'pipx install xyz', which will manage a\n",
      "\u001b[31m   \u001b[0m virtual environment for you. Make sure you have python-pipx\n",
      "\u001b[31m   \u001b[0m installed via pacman.\n",
      "\n",
      "\u001b[1;35mnote\u001b[0m: If you believe this is a mistake, please contact your Python installation or OS distribution provider. You can override this, at the risk of breaking your Python installation or OS, by passing --break-system-packages.\n",
      "\u001b[1;36mhint\u001b[0m: See PEP 668 for the detailed specification.\n"
     ]
    },
    {
     "ename": "ModuleNotFoundError",
     "evalue": "No module named 'matplotlib'",
     "output_type": "error",
     "traceback": [
      "\u001b[0;31m---------------------------------------------------------------------------\u001b[0m",
      "\u001b[0;31mModuleNotFoundError\u001b[0m                       Traceback (most recent call last)",
      "Cell \u001b[0;32mIn[8], line 5\u001b[0m\n\u001b[1;32m      2\u001b[0m \u001b[38;5;28;01mimport\u001b[39;00m\u001b[38;5;250m \u001b[39m\u001b[38;5;21;01mnumpy\u001b[39;00m\u001b[38;5;250m \u001b[39m\u001b[38;5;28;01mas\u001b[39;00m\u001b[38;5;250m \u001b[39m\u001b[38;5;21;01mnp\u001b[39;00m \u001b[38;5;66;03m#foundational package for scientific computing.\u001b[39;00m\n\u001b[1;32m      4\u001b[0m get_ipython()\u001b[38;5;241m.\u001b[39msystem(\u001b[38;5;124m'\u001b[39m\u001b[38;5;124mpip install matplotlib\u001b[39m\u001b[38;5;124m'\u001b[39m)\n\u001b[0;32m----> 5\u001b[0m \u001b[38;5;28;01mimport\u001b[39;00m\u001b[38;5;250m \u001b[39m\u001b[38;5;21;01mmatplotlib\u001b[39;00m\u001b[38;5;21;01m.\u001b[39;00m\u001b[38;5;21;01mpyplot\u001b[39;00m\u001b[38;5;250m \u001b[39m\u001b[38;5;28;01mas\u001b[39;00m\u001b[38;5;250m \u001b[39m\u001b[38;5;21;01mplt\u001b[39;00m \u001b[38;5;66;03m#collection of functions for scientific and publication-ready visualization.\u001b[39;00m\n\u001b[1;32m      6\u001b[0m \u001b[38;5;28;01mimport\u001b[39;00m\u001b[38;5;250m \u001b[39m\u001b[38;5;21;01mseaborn\u001b[39;00m\u001b[38;5;250m \u001b[39m\u001b[38;5;28;01mas\u001b[39;00m\u001b[38;5;250m \u001b[39m\u001b[38;5;21;01msns\u001b[39;00m \u001b[38;5;66;03m#visualization\u001b[39;00m\n\u001b[1;32m      8\u001b[0m \u001b[38;5;66;03m#Configure Visualization Defaults\u001b[39;00m\n\u001b[1;32m      9\u001b[0m \u001b[38;5;66;03m#%matplotlib inline = show plots in Jupyter Notebook browser\u001b[39;00m\n",
      "\u001b[0;31mModuleNotFoundError\u001b[0m: No module named 'matplotlib'"
     ]
    }
   ],
   "source": [
    "import pandas as pd #collection of functions for data processing and analysis.\n",
    "import numpy as np #foundational package for scientific computing.\n",
    "\n",
    "import matplotlib.pyplot as plt #collection of functions for scientific and publication-ready visualization.\n",
    "import seaborn as sns #visualization\n",
    "\n",
    "#Configure Visualization Defaults\n",
    "#%matplotlib inline = show plots in Jupyter Notebook browser\n",
    "%matplotlib inline\n",
    "\n",
    "#ignore warnings\n",
    "import warnings\n",
    "warnings.filterwarnings(\"ignore\")"
   ]
  },
  {
   "cell_type": "markdown",
   "metadata": {},
   "source": [
    "<a id=\"ch3\"></a>\n",
    "### 3. Look at Dataset\n",
    "In this section we will look into dataset using *pandas* library."
   ]
  },
  {
   "cell_type": "code",
   "execution_count": 1,
   "metadata": {
    "execution": {
     "iopub.execute_input": "2024-01-07T08:32:18.771334Z",
     "iopub.status.busy": "2024-01-07T08:32:18.770478Z",
     "iopub.status.idle": "2024-01-07T08:32:18.853477Z",
     "shell.execute_reply": "2024-01-07T08:32:18.852413Z",
     "shell.execute_reply.started": "2024-01-07T08:32:18.771309Z"
    },
    "trusted": true
   },
   "outputs": [
    {
     "ename": "NameError",
     "evalue": "name 'pd' is not defined",
     "output_type": "error",
     "traceback": [
      "\u001b[0;31m---------------------------------------------------------------------------\u001b[0m",
      "\u001b[0;31mNameError\u001b[0m                                 Traceback (most recent call last)",
      "Cell \u001b[0;32mIn[1], line 1\u001b[0m\n\u001b[0;32m----> 1\u001b[0m df \u001b[38;5;241m=\u001b[39m \u001b[43mpd\u001b[49m\u001b[38;5;241m.\u001b[39mread_csv(\u001b[38;5;124m\"\u001b[39m\u001b[38;5;124mnetflix-engagement-jan-jun-23/Netflix Engagement (plus).csv\u001b[39m\u001b[38;5;124m\"\u001b[39m)\n\u001b[1;32m      2\u001b[0m df\u001b[38;5;241m.\u001b[39msample(\u001b[38;5;241m10\u001b[39m)\n",
      "\u001b[0;31mNameError\u001b[0m: name 'pd' is not defined"
     ]
    }
   ],
   "source": [
    "df = pd.read_csv(\"netflix-engagement-jan-jun-23/Netflix Engagement (plus).csv\")\n",
    "df.sample(10)"
   ]
  },
  {
   "cell_type": "markdown",
   "metadata": {},
   "source": [
    "<a id=\"ch4\"></a>\n",
    "### 4. Look Deep Into the Dataset\n",
    "In this step we will look deep into the dataset. And play with it to examine the dataset. Like shape of the dataset and what kind of data it has."
   ]
  },
  {
   "cell_type": "code",
   "execution_count": null,
   "metadata": {
    "execution": {
     "iopub.execute_input": "2024-01-07T08:32:18.854538Z",
     "iopub.status.busy": "2024-01-07T08:32:18.854315Z",
     "iopub.status.idle": "2024-01-07T08:32:18.86116Z",
     "shell.execute_reply": "2024-01-07T08:32:18.859849Z",
     "shell.execute_reply.started": "2024-01-07T08:32:18.854516Z"
    },
    "trusted": true
   },
   "outputs": [],
   "source": [
    "# Shape of the dataset\n",
    "df.shape"
   ]
  },
  {
   "cell_type": "markdown",
   "metadata": {},
   "source": [
    "So, there are 18332 rows and 9 columns originally."
   ]
  },
  {
   "cell_type": "code",
   "execution_count": null,
   "metadata": {
    "execution": {
     "iopub.execute_input": "2024-01-07T08:32:18.864792Z",
     "iopub.status.busy": "2024-01-07T08:32:18.864461Z",
     "iopub.status.idle": "2024-01-07T08:32:18.875134Z",
     "shell.execute_reply": "2024-01-07T08:32:18.874016Z",
     "shell.execute_reply.started": "2024-01-07T08:32:18.864763Z"
    },
    "trusted": true
   },
   "outputs": [],
   "source": [
    "# Columns name in the dataset.\n",
    "df.columns"
   ]
  },
  {
   "cell_type": "code",
   "execution_count": null,
   "metadata": {
    "execution": {
     "iopub.execute_input": "2024-01-07T08:32:18.876745Z",
     "iopub.status.busy": "2024-01-07T08:32:18.876409Z",
     "iopub.status.idle": "2024-01-07T08:32:18.893154Z",
     "shell.execute_reply": "2024-01-07T08:32:18.89243Z",
     "shell.execute_reply.started": "2024-01-07T08:32:18.876717Z"
    },
    "trusted": true
   },
   "outputs": [],
   "source": [
    "# 1st 5 rows of the dataset using pd.head()\n",
    "df.head(5)"
   ]
  },
  {
   "cell_type": "code",
   "execution_count": null,
   "metadata": {
    "execution": {
     "iopub.execute_input": "2024-01-07T08:32:18.894966Z",
     "iopub.status.busy": "2024-01-07T08:32:18.894679Z",
     "iopub.status.idle": "2024-01-07T08:32:18.908668Z",
     "shell.execute_reply": "2024-01-07T08:32:18.907604Z",
     "shell.execute_reply.started": "2024-01-07T08:32:18.894939Z"
    },
    "trusted": true
   },
   "outputs": [],
   "source": [
    "# Last 5 rows of the dataset.\n",
    "df.tail(5)"
   ]
  },
  {
   "cell_type": "code",
   "execution_count": null,
   "metadata": {
    "execution": {
     "iopub.execute_input": "2024-01-07T08:32:18.910085Z",
     "iopub.status.busy": "2024-01-07T08:32:18.909819Z",
     "iopub.status.idle": "2024-01-07T08:32:18.93351Z",
     "shell.execute_reply": "2024-01-07T08:32:18.931981Z",
     "shell.execute_reply.started": "2024-01-07T08:32:18.910061Z"
    },
    "trusted": true
   },
   "outputs": [],
   "source": [
    "# This will show the description of the columns with numbers.\n",
    "df.describe()"
   ]
  },
  {
   "cell_type": "code",
   "execution_count": null,
   "metadata": {
    "execution": {
     "iopub.execute_input": "2024-01-07T08:32:18.935826Z",
     "iopub.status.busy": "2024-01-07T08:32:18.935447Z",
     "iopub.status.idle": "2024-01-07T08:32:19.087512Z",
     "shell.execute_reply": "2024-01-07T08:32:19.086337Z",
     "shell.execute_reply.started": "2024-01-07T08:32:18.935793Z"
    },
    "trusted": true
   },
   "outputs": [],
   "source": [
    "# It will decribe all columns.\n",
    "df.describe(include = 'all')"
   ]
  },
  {
   "cell_type": "code",
   "execution_count": null,
   "metadata": {
    "execution": {
     "iopub.execute_input": "2024-01-07T08:32:19.089939Z",
     "iopub.status.busy": "2024-01-07T08:32:19.089266Z",
     "iopub.status.idle": "2024-01-07T08:32:19.103613Z",
     "shell.execute_reply": "2024-01-07T08:32:19.102706Z",
     "shell.execute_reply.started": "2024-01-07T08:32:19.08988Z"
    },
    "trusted": true
   },
   "outputs": [],
   "source": [
    "# Total nos. of null values in each columns.\n",
    "df.isnull().sum()"
   ]
  },
  {
   "cell_type": "code",
   "execution_count": null,
   "metadata": {
    "execution": {
     "iopub.execute_input": "2024-01-07T08:32:19.106031Z",
     "iopub.status.busy": "2024-01-07T08:32:19.104976Z",
     "iopub.status.idle": "2024-01-07T08:32:19.13911Z",
     "shell.execute_reply": "2024-01-07T08:32:19.137987Z",
     "shell.execute_reply.started": "2024-01-07T08:32:19.105993Z"
    },
    "trusted": true
   },
   "outputs": [],
   "source": [
    "# This loop will show us the total nos. of unique values in each columns.\n",
    "for i in df.columns:\n",
    "    \n",
    "    BOLD = \"\\033[1m\"\n",
    "    RESET = \"\\033[0m\"\n",
    "    print(BOLD + i + RESET)\n",
    "    \n",
    "    print(df[i].nunique(), '\\n')"
   ]
  },
  {
   "cell_type": "code",
   "execution_count": null,
   "metadata": {
    "execution": {
     "iopub.execute_input": "2024-01-07T08:32:19.140712Z",
     "iopub.status.busy": "2024-01-07T08:32:19.140408Z",
     "iopub.status.idle": "2024-01-07T08:32:19.157324Z",
     "shell.execute_reply": "2024-01-07T08:32:19.156146Z",
     "shell.execute_reply.started": "2024-01-07T08:32:19.140688Z"
    },
    "trusted": true
   },
   "outputs": [],
   "source": [
    "# Basic information about the dataset like datatype of the each columns and null count in each columns and also memory usage.\n",
    "df.info()"
   ]
  },
  {
   "cell_type": "markdown",
   "metadata": {},
   "source": [
    "Here we can see that columns like 'Release Date' should be of datatype datetime but instead its of datatype object and 'Number of Ratings' should be int64 instead of float64. So, we will change the datatype of those."
   ]
  },
  {
   "cell_type": "markdown",
   "metadata": {},
   "source": [
    "<a id=\"ch5\"></a>\n",
    "### 5. Change/modify the Dataset\n",
    "In this section we will look into dataset and change the dataset as per our requirment to view the dataset more accurately."
   ]
  },
  {
   "cell_type": "code",
   "execution_count": null,
   "metadata": {
    "execution": {
     "iopub.execute_input": "2024-01-07T08:32:19.160349Z",
     "iopub.status.busy": "2024-01-07T08:32:19.159368Z",
     "iopub.status.idle": "2024-01-07T08:32:19.172323Z",
     "shell.execute_reply": "2024-01-07T08:32:19.171342Z",
     "shell.execute_reply.started": "2024-01-07T08:32:19.160313Z"
    },
    "trusted": true
   },
   "outputs": [],
   "source": [
    "# Chage the datatype of \"Release Date\" column.\n",
    "df['Release Date'] = pd.to_datetime(df['Release Date'])"
   ]
  },
  {
   "cell_type": "code",
   "execution_count": null,
   "metadata": {
    "execution": {
     "iopub.execute_input": "2024-01-07T08:32:19.179054Z",
     "iopub.status.busy": "2024-01-07T08:32:19.177427Z",
     "iopub.status.idle": "2024-01-07T08:32:19.184781Z",
     "shell.execute_reply": "2024-01-07T08:32:19.183673Z",
     "shell.execute_reply.started": "2024-01-07T08:32:19.179026Z"
    },
    "trusted": true
   },
   "outputs": [],
   "source": [
    "# Chage the datatype of \"Number of Ratings\" column.\n",
    "df['Number of Ratings'] = np.int64(df['Number of Ratings'])"
   ]
  },
  {
   "cell_type": "code",
   "execution_count": null,
   "metadata": {
    "execution": {
     "iopub.execute_input": "2024-01-07T08:32:19.186409Z",
     "iopub.status.busy": "2024-01-07T08:32:19.186074Z",
     "iopub.status.idle": "2024-01-07T08:32:19.209642Z",
     "shell.execute_reply": "2024-01-07T08:32:19.208501Z",
     "shell.execute_reply.started": "2024-01-07T08:32:19.18638Z"
    },
    "trusted": true
   },
   "outputs": [],
   "source": [
    "df.info()"
   ]
  },
  {
   "cell_type": "markdown",
   "metadata": {},
   "source": [
    "Now we can see that the datatype has been changed."
   ]
  },
  {
   "cell_type": "code",
   "execution_count": null,
   "metadata": {
    "execution": {
     "iopub.execute_input": "2024-01-07T08:32:19.211673Z",
     "iopub.status.busy": "2024-01-07T08:32:19.210754Z",
     "iopub.status.idle": "2024-01-07T08:32:19.221007Z",
     "shell.execute_reply": "2024-01-07T08:32:19.219975Z",
     "shell.execute_reply.started": "2024-01-07T08:32:19.211642Z"
    },
    "trusted": true
   },
   "outputs": [],
   "source": [
    "# Just for fun we will remove '?' from the column name \"Available Globally?\" and rene \n",
    "df[\"Available Globally\"] = df[\"Available Globally?\"]\n",
    "df.drop(columns=(\"Available Globally?\"), axis = 1, inplace = True)"
   ]
  },
  {
   "cell_type": "code",
   "execution_count": null,
   "metadata": {
    "execution": {
     "iopub.execute_input": "2024-01-07T08:32:19.222333Z",
     "iopub.status.busy": "2024-01-07T08:32:19.222025Z",
     "iopub.status.idle": "2024-01-07T08:32:19.240365Z",
     "shell.execute_reply": "2024-01-07T08:32:19.239437Z",
     "shell.execute_reply.started": "2024-01-07T08:32:19.222306Z"
    },
    "trusted": true
   },
   "outputs": [],
   "source": [
    "df.sample(3)"
   ]
  },
  {
   "cell_type": "markdown",
   "metadata": {},
   "source": [
    "## 5.1 Create new columns.\n",
    "In this section we will create new columns in order to get more informations."
   ]
  },
  {
   "cell_type": "code",
   "execution_count": null,
   "metadata": {
    "execution": {
     "iopub.execute_input": "2024-01-07T08:32:19.242079Z",
     "iopub.status.busy": "2024-01-07T08:32:19.241518Z",
     "iopub.status.idle": "2024-01-07T08:32:19.255265Z",
     "shell.execute_reply": "2024-01-07T08:32:19.253193Z",
     "shell.execute_reply.started": "2024-01-07T08:32:19.242047Z"
    },
    "trusted": true
   },
   "outputs": [],
   "source": [
    "# Add 'Release Year' column from the 'Release Date' column. Year in which show/movie releases.\n",
    "df['Release Year'] = df['Release Date'].dt.year.fillna(0).astype('int64')"
   ]
  },
  {
   "cell_type": "code",
   "execution_count": null,
   "metadata": {
    "execution": {
     "iopub.execute_input": "2024-01-07T08:32:19.257534Z",
     "iopub.status.busy": "2024-01-07T08:32:19.257007Z",
     "iopub.status.idle": "2024-01-07T08:32:19.264576Z",
     "shell.execute_reply": "2024-01-07T08:32:19.263527Z",
     "shell.execute_reply.started": "2024-01-07T08:32:19.257498Z"
    },
    "trusted": true
   },
   "outputs": [],
   "source": [
    "# Add 'Release Month' column from the 'Release Month' column. Month in which show/movie releases.\n",
    "df['Release Month'] = df['Release Date'].dt.month.fillna(0).astype('int64')"
   ]
  },
  {
   "cell_type": "code",
   "execution_count": null,
   "metadata": {
    "execution": {
     "iopub.execute_input": "2024-01-07T08:32:19.266349Z",
     "iopub.status.busy": "2024-01-07T08:32:19.265711Z",
     "iopub.status.idle": "2024-01-07T08:32:19.279657Z",
     "shell.execute_reply": "2024-01-07T08:32:19.27859Z",
     "shell.execute_reply.started": "2024-01-07T08:32:19.266318Z"
    },
    "trusted": true
   },
   "outputs": [],
   "source": [
    "# Add 'Release Day' column from the 'Release Day' column. Day of the week in which show/movie releases.\n",
    "df['Release Day'] = df['Release Date'].dt.day_name()"
   ]
  },
  {
   "cell_type": "code",
   "execution_count": null,
   "metadata": {
    "execution": {
     "iopub.execute_input": "2024-01-07T08:32:19.281228Z",
     "iopub.status.busy": "2024-01-07T08:32:19.280762Z",
     "iopub.status.idle": "2024-01-07T08:32:19.304851Z",
     "shell.execute_reply": "2024-01-07T08:32:19.303647Z",
     "shell.execute_reply.started": "2024-01-07T08:32:19.2812Z"
    },
    "trusted": true
   },
   "outputs": [],
   "source": [
    "df.sample(3)"
   ]
  },
  {
   "cell_type": "code",
   "execution_count": null,
   "metadata": {
    "execution": {
     "iopub.execute_input": "2024-01-07T08:32:19.306639Z",
     "iopub.status.busy": "2024-01-07T08:32:19.306333Z",
     "iopub.status.idle": "2024-01-07T08:32:19.32023Z",
     "shell.execute_reply": "2024-01-07T08:32:19.319324Z",
     "shell.execute_reply.started": "2024-01-07T08:32:19.306612Z"
    },
    "trusted": true
   },
   "outputs": [],
   "source": [
    "df.isnull().sum()"
   ]
  },
  {
   "cell_type": "markdown",
   "metadata": {},
   "source": [
    "We can see that there are so many null values in the dataset. We will have to fix the null values in order to get more informations."
   ]
  },
  {
   "cell_type": "markdown",
   "metadata": {},
   "source": [
    "<a id=\"ch6\"></a>\n",
    "### 6. Fill/delete NaN/null valueus.\n",
    "In this section we will fill the nan/null values or remove rows that have nan/null values."
   ]
  },
  {
   "cell_type": "code",
   "execution_count": null,
   "metadata": {
    "execution": {
     "iopub.execute_input": "2024-01-07T08:32:19.321639Z",
     "iopub.status.busy": "2024-01-07T08:32:19.321371Z",
     "iopub.status.idle": "2024-01-07T08:32:19.33214Z",
     "shell.execute_reply": "2024-01-07T08:32:19.331151Z",
     "shell.execute_reply.started": "2024-01-07T08:32:19.321615Z"
    },
    "trusted": true
   },
   "outputs": [],
   "source": [
    "# Fill 'Unknown' inplace of null values in 'Release Day' column.\n",
    "df['Release Day'].fillna('Unknown', inplace = True)"
   ]
  },
  {
   "cell_type": "code",
   "execution_count": null,
   "metadata": {
    "execution": {
     "iopub.execute_input": "2024-01-07T08:32:19.334369Z",
     "iopub.status.busy": "2024-01-07T08:32:19.333893Z",
     "iopub.status.idle": "2024-01-07T08:32:19.345744Z",
     "shell.execute_reply": "2024-01-07T08:32:19.344761Z",
     "shell.execute_reply.started": "2024-01-07T08:32:19.33433Z"
    },
    "trusted": true
   },
   "outputs": [],
   "source": [
    "# No. of ratings which has most people rated.\n",
    "df['Number of Ratings'].max()"
   ]
  },
  {
   "cell_type": "code",
   "execution_count": null,
   "metadata": {
    "execution": {
     "iopub.execute_input": "2024-01-07T08:32:19.347149Z",
     "iopub.status.busy": "2024-01-07T08:32:19.34684Z",
     "iopub.status.idle": "2024-01-07T08:32:19.357159Z",
     "shell.execute_reply": "2024-01-07T08:32:19.356078Z",
     "shell.execute_reply.started": "2024-01-07T08:32:19.347125Z"
    },
    "trusted": true
   },
   "outputs": [],
   "source": [
    "# No. of ratings which has least people rated.\n",
    "df['Number of Ratings'].min()"
   ]
  },
  {
   "cell_type": "markdown",
   "metadata": {},
   "source": [
    "This is false information as there shouldn't be a row with less then 0 no. of rated, as that can't be possible."
   ]
  },
  {
   "cell_type": "code",
   "execution_count": null,
   "metadata": {
    "execution": {
     "iopub.execute_input": "2024-01-07T08:32:19.358765Z",
     "iopub.status.busy": "2024-01-07T08:32:19.358321Z",
     "iopub.status.idle": "2024-01-07T08:32:19.371592Z",
     "shell.execute_reply": "2024-01-07T08:32:19.370466Z",
     "shell.execute_reply.started": "2024-01-07T08:32:19.358737Z"
    },
    "trusted": true
   },
   "outputs": [],
   "source": [
    "# Nos. of row in 'Number of Ratings' column that have value less then 0.\n",
    "df[df['Number of Ratings'] <= 0]['Number of Ratings'].count()"
   ]
  },
  {
   "cell_type": "code",
   "execution_count": null,
   "metadata": {
    "execution": {
     "iopub.execute_input": "2024-01-07T08:32:19.373432Z",
     "iopub.status.busy": "2024-01-07T08:32:19.373143Z",
     "iopub.status.idle": "2024-01-07T08:32:19.383592Z",
     "shell.execute_reply": "2024-01-07T08:32:19.382701Z",
     "shell.execute_reply.started": "2024-01-07T08:32:19.373401Z"
    },
    "trusted": true
   },
   "outputs": [],
   "source": [
    "# No. of unique values out of those 4110 values which are less then 0.\n",
    "df[df['Number of Ratings'] <= 0]['Number of Ratings'].nunique()"
   ]
  },
  {
   "cell_type": "markdown",
   "metadata": {},
   "source": [
    "Here we can see that there are 4110 values in 'Number of Ratings' columns which are less then 0 nd all are -9223372036854775808. Then it must be a typo. As there are only 4110 rows we can skip those columns or delete those rows."
   ]
  },
  {
   "cell_type": "code",
   "execution_count": null,
   "metadata": {
    "execution": {
     "iopub.execute_input": "2024-01-07T08:32:19.385549Z",
     "iopub.status.busy": "2024-01-07T08:32:19.385109Z",
     "iopub.status.idle": "2024-01-07T08:32:19.403515Z",
     "shell.execute_reply": "2024-01-07T08:32:19.402128Z",
     "shell.execute_reply.started": "2024-01-07T08:32:19.385517Z"
    },
    "trusted": true
   },
   "outputs": [],
   "source": [
    "# We delete those row which are less then 0. And stored that dataset in a new dataframe 'df_with_ratings'\n",
    "df_with_ratings = df.loc[df['Number of Ratings'] > 0]\n",
    "df_with_ratings.sample(3)"
   ]
  },
  {
   "cell_type": "code",
   "execution_count": null,
   "metadata": {
    "execution": {
     "iopub.execute_input": "2024-01-07T08:32:19.405705Z",
     "iopub.status.busy": "2024-01-07T08:32:19.405205Z",
     "iopub.status.idle": "2024-01-07T08:32:19.411543Z",
     "shell.execute_reply": "2024-01-07T08:32:19.410813Z",
     "shell.execute_reply.started": "2024-01-07T08:32:19.40568Z"
    },
    "trusted": true
   },
   "outputs": [],
   "source": [
    "df_with_ratings.shape"
   ]
  },
  {
   "cell_type": "markdown",
   "metadata": {},
   "source": [
    "After delete those rows the new dataframe have 14222 rows and 12 columns."
   ]
  },
  {
   "cell_type": "code",
   "execution_count": null,
   "metadata": {
    "execution": {
     "iopub.execute_input": "2024-01-07T08:32:19.413815Z",
     "iopub.status.busy": "2024-01-07T08:32:19.412589Z",
     "iopub.status.idle": "2024-01-07T08:32:19.425992Z",
     "shell.execute_reply": "2024-01-07T08:32:19.424862Z",
     "shell.execute_reply.started": "2024-01-07T08:32:19.413705Z"
    },
    "trusted": true
   },
   "outputs": [],
   "source": [
    "# Null values in 'Rating' column.\n",
    "df_with_ratings.Rating.isnull().sum()"
   ]
  },
  {
   "cell_type": "code",
   "execution_count": null,
   "metadata": {
    "execution": {
     "iopub.execute_input": "2024-01-07T08:32:19.427931Z",
     "iopub.status.busy": "2024-01-07T08:32:19.427028Z",
     "iopub.status.idle": "2024-01-07T08:32:19.443881Z",
     "shell.execute_reply": "2024-01-07T08:32:19.442736Z",
     "shell.execute_reply.started": "2024-01-07T08:32:19.427872Z"
    },
    "trusted": true
   },
   "outputs": [],
   "source": [
    "# All unique genre in the new dataset.\n",
    "df_with_ratings.Genre.unique()"
   ]
  },
  {
   "cell_type": "code",
   "execution_count": null,
   "metadata": {
    "execution": {
     "iopub.execute_input": "2024-01-07T08:32:19.445422Z",
     "iopub.status.busy": "2024-01-07T08:32:19.444874Z",
     "iopub.status.idle": "2024-01-07T08:32:19.459062Z",
     "shell.execute_reply": "2024-01-07T08:32:19.457888Z",
     "shell.execute_reply.started": "2024-01-07T08:32:19.445395Z"
    },
    "trusted": true
   },
   "outputs": [],
   "source": [
    "# No. of null values in 'Genre' column.\n",
    "df_with_ratings.Genre.isnull().sum()"
   ]
  },
  {
   "cell_type": "markdown",
   "metadata": {},
   "source": [
    "As there are only 33 rows it is safe to delete those rows as well."
   ]
  },
  {
   "cell_type": "code",
   "execution_count": null,
   "metadata": {
    "execution": {
     "iopub.execute_input": "2024-01-07T08:32:19.46099Z",
     "iopub.status.busy": "2024-01-07T08:32:19.460521Z",
     "iopub.status.idle": "2024-01-07T08:32:19.477172Z",
     "shell.execute_reply": "2024-01-07T08:32:19.475943Z",
     "shell.execute_reply.started": "2024-01-07T08:32:19.460958Z"
    },
    "trusted": true
   },
   "outputs": [],
   "source": [
    "df_with_ratings.dropna(subset=['Genre'], inplace = True)"
   ]
  },
  {
   "cell_type": "code",
   "execution_count": null,
   "metadata": {
    "execution": {
     "iopub.execute_input": "2024-01-07T08:32:19.479411Z",
     "iopub.status.busy": "2024-01-07T08:32:19.47901Z",
     "iopub.status.idle": "2024-01-07T08:32:19.49679Z",
     "shell.execute_reply": "2024-01-07T08:32:19.495397Z",
     "shell.execute_reply.started": "2024-01-07T08:32:19.479381Z"
    },
    "trusted": true
   },
   "outputs": [],
   "source": [
    "# Null values in the columns of the new dataset after delete the rows and fill nan.\n",
    "df_with_ratings.isnull().sum()"
   ]
  },
  {
   "cell_type": "markdown",
   "metadata": {},
   "source": [
    "Still there are 3 columns which have null values. In 'Release Date', 'Key Words' & 'Description' columns."
   ]
  },
  {
   "cell_type": "code",
   "execution_count": null,
   "metadata": {
    "execution": {
     "iopub.execute_input": "2024-01-07T08:32:19.498442Z",
     "iopub.status.busy": "2024-01-07T08:32:19.498153Z",
     "iopub.status.idle": "2024-01-07T08:32:19.51494Z",
     "shell.execute_reply": "2024-01-07T08:32:19.51351Z",
     "shell.execute_reply.started": "2024-01-07T08:32:19.498416Z"
    },
    "trusted": true
   },
   "outputs": [],
   "source": [
    "# Fill 0 inplace of null values in the 'Release Date' column.\n",
    "df_with_ratings['Release Date'].fillna(0, inplace = True)"
   ]
  },
  {
   "cell_type": "code",
   "execution_count": null,
   "metadata": {
    "execution": {
     "iopub.execute_input": "2024-01-07T08:32:19.516994Z",
     "iopub.status.busy": "2024-01-07T08:32:19.516611Z",
     "iopub.status.idle": "2024-01-07T08:32:19.52762Z",
     "shell.execute_reply": "2024-01-07T08:32:19.526392Z",
     "shell.execute_reply.started": "2024-01-07T08:32:19.516964Z"
    },
    "trusted": true
   },
   "outputs": [],
   "source": [
    "# Shape of the dataframe after delete/remove the rows.\n",
    "df_with_ratings.shape"
   ]
  },
  {
   "cell_type": "markdown",
   "metadata": {},
   "source": [
    "Finally we have 14189 rows and 12 columns."
   ]
  },
  {
   "cell_type": "code",
   "execution_count": null,
   "metadata": {
    "execution": {
     "iopub.execute_input": "2024-01-07T08:32:19.529427Z",
     "iopub.status.busy": "2024-01-07T08:32:19.529089Z",
     "iopub.status.idle": "2024-01-07T08:32:19.540364Z",
     "shell.execute_reply": "2024-01-07T08:32:19.539294Z",
     "shell.execute_reply.started": "2024-01-07T08:32:19.529398Z"
    },
    "trusted": true
   },
   "outputs": [],
   "source": [
    "# Fill 'Unknown' inplace of null value in 'Key Words' column.\n",
    "df_with_ratings['Key Words'].fillna('unknown', inplace = True)"
   ]
  },
  {
   "cell_type": "code",
   "execution_count": null,
   "metadata": {
    "execution": {
     "iopub.execute_input": "2024-01-07T08:32:19.542496Z",
     "iopub.status.busy": "2024-01-07T08:32:19.542131Z",
     "iopub.status.idle": "2024-01-07T08:32:19.553768Z",
     "shell.execute_reply": "2024-01-07T08:32:19.552972Z",
     "shell.execute_reply.started": "2024-01-07T08:32:19.542462Z"
    },
    "trusted": true
   },
   "outputs": [],
   "source": [
    "# Fill 'Unknown' inplace of null value in 'Description' column.\n",
    "df_with_ratings['Description'].fillna('unknown', inplace = True)"
   ]
  },
  {
   "cell_type": "code",
   "execution_count": null,
   "metadata": {
    "execution": {
     "iopub.execute_input": "2024-01-07T08:32:19.555085Z",
     "iopub.status.busy": "2024-01-07T08:32:19.554793Z",
     "iopub.status.idle": "2024-01-07T08:32:19.573501Z",
     "shell.execute_reply": "2024-01-07T08:32:19.572858Z",
     "shell.execute_reply.started": "2024-01-07T08:32:19.555061Z"
    },
    "trusted": true
   },
   "outputs": [],
   "source": [
    "# No. of null values in the all columns of the dataset.\n",
    "df_with_ratings.isnull().sum()"
   ]
  },
  {
   "cell_type": "markdown",
   "metadata": {},
   "source": [
    "Finally we can see that there are no null values in the dataset anymore."
   ]
  },
  {
   "cell_type": "code",
   "execution_count": null,
   "metadata": {
    "execution": {
     "iopub.execute_input": "2024-01-07T08:32:19.575256Z",
     "iopub.status.busy": "2024-01-07T08:32:19.574887Z",
     "iopub.status.idle": "2024-01-07T08:32:19.592688Z",
     "shell.execute_reply": "2024-01-07T08:32:19.591896Z",
     "shell.execute_reply.started": "2024-01-07T08:32:19.575224Z"
    },
    "trusted": true
   },
   "outputs": [],
   "source": [
    "# Sample of the new dataset after remove null values.\n",
    "df_with_ratings.sample(3)"
   ]
  },
  {
   "cell_type": "markdown",
   "metadata": {},
   "source": [
    "<a id=\"ch7\"></a>\n",
    "### 7. Analysis from the Dataset.\n",
    "In this section we will analysis the dataset. Try to find some answers."
   ]
  },
  {
   "cell_type": "code",
   "execution_count": null,
   "metadata": {
    "execution": {
     "iopub.execute_input": "2024-01-07T08:32:19.600373Z",
     "iopub.status.busy": "2024-01-07T08:32:19.599259Z",
     "iopub.status.idle": "2024-01-07T08:32:19.610233Z",
     "shell.execute_reply": "2024-01-07T08:32:19.609292Z",
     "shell.execute_reply.started": "2024-01-07T08:32:19.600302Z"
    },
    "trusted": true
   },
   "outputs": [],
   "source": [
    "# Q1. Which day has most number of releases?\n",
    "df_with_ratings['Release Day'].value_counts()"
   ]
  },
  {
   "cell_type": "markdown",
   "metadata": {},
   "source": [
    "If we skip the unknown one, we can see that most of the shows or movies releases in Friday."
   ]
  },
  {
   "cell_type": "code",
   "execution_count": null,
   "metadata": {
    "execution": {
     "iopub.execute_input": "2024-01-07T08:32:19.614873Z",
     "iopub.status.busy": "2024-01-07T08:32:19.611678Z",
     "iopub.status.idle": "2024-01-07T08:32:19.624056Z",
     "shell.execute_reply": "2024-01-07T08:32:19.622929Z",
     "shell.execute_reply.started": "2024-01-07T08:32:19.614818Z"
    },
    "trusted": true
   },
   "outputs": [],
   "source": [
    "# Q2. In which year there are highest numbers of shows/movies released?\n",
    "df_with_ratings['Release Year'].value_counts()"
   ]
  },
  {
   "cell_type": "markdown",
   "metadata": {},
   "source": [
    "Here, we can see that numbers of new movies/shows are releasing/increasing over the years."
   ]
  },
  {
   "cell_type": "code",
   "execution_count": null,
   "metadata": {
    "execution": {
     "iopub.execute_input": "2024-01-07T08:32:19.626978Z",
     "iopub.status.busy": "2024-01-07T08:32:19.625338Z",
     "iopub.status.idle": "2024-01-07T08:32:19.653752Z",
     "shell.execute_reply": "2024-01-07T08:32:19.6526Z",
     "shell.execute_reply.started": "2024-01-07T08:32:19.626885Z"
    },
    "trusted": true
   },
   "outputs": [],
   "source": [
    "# Q3. How many shows with 'Drama' genre?\n",
    "## All the shows with drama genre.\n",
    "df_with_ratings[df_with_ratings['Genre'].apply(lambda x: 'Drama' in x)]"
   ]
  },
  {
   "cell_type": "markdown",
   "metadata": {},
   "source": [
    "We can see that there are 5847 shows/movies of 'Drama' genre."
   ]
  },
  {
   "cell_type": "code",
   "execution_count": null,
   "metadata": {
    "execution": {
     "iopub.execute_input": "2024-01-07T08:32:19.655594Z",
     "iopub.status.busy": "2024-01-07T08:32:19.655235Z",
     "iopub.status.idle": "2024-01-07T08:32:19.676433Z",
     "shell.execute_reply": "2024-01-07T08:32:19.675647Z",
     "shell.execute_reply.started": "2024-01-07T08:32:19.655561Z"
    },
    "trusted": true
   },
   "outputs": [],
   "source": [
    "# Detailes of the movie/show of 'Drama' genre with highest rating.\n",
    "df_with_ratings[df_with_ratings['Genre'].apply(lambda x: 'Drama' in x)].sort_values(by= 'Rating', ascending = False).iloc[1]"
   ]
  },
  {
   "cell_type": "markdown",
   "metadata": {},
   "source": [
    "So, 'One Day at a Time: Season 1' is the best show of 'Drama' genre."
   ]
  },
  {
   "cell_type": "code",
   "execution_count": null,
   "metadata": {
    "execution": {
     "iopub.execute_input": "2024-01-07T08:32:19.678422Z",
     "iopub.status.busy": "2024-01-07T08:32:19.677499Z",
     "iopub.status.idle": "2024-01-07T08:32:19.713273Z",
     "shell.execute_reply": "2024-01-07T08:32:19.712289Z",
     "shell.execute_reply.started": "2024-01-07T08:32:19.678389Z"
    },
    "trusted": true
   },
   "outputs": [],
   "source": [
    "# Q4. What are the all the genres of which movies/shows releases?\n",
    "all_genres = set(genre.strip(\"[]\").replace(\"'\", \"\") for genres in df_with_ratings['Genre'].str.split(\", \") for genre in genres)\n",
    "all_genres"
   ]
  },
  {
   "cell_type": "code",
   "execution_count": null,
   "metadata": {
    "execution": {
     "iopub.execute_input": "2024-01-07T08:32:19.715049Z",
     "iopub.status.busy": "2024-01-07T08:32:19.714509Z",
     "iopub.status.idle": "2024-01-07T08:32:19.721524Z",
     "shell.execute_reply": "2024-01-07T08:32:19.720702Z",
     "shell.execute_reply.started": "2024-01-07T08:32:19.715017Z"
    },
    "trusted": true
   },
   "outputs": [],
   "source": [
    "# Q5. How many genres of movies/shows are released? \n",
    "len(all_genres)"
   ]
  },
  {
   "cell_type": "markdown",
   "metadata": {},
   "source": [
    "There are 27 numbers of genres movies/shows released over the year."
   ]
  },
  {
   "cell_type": "code",
   "execution_count": null,
   "metadata": {
    "execution": {
     "iopub.execute_input": "2024-01-07T08:32:19.723207Z",
     "iopub.status.busy": "2024-01-07T08:32:19.722684Z",
     "iopub.status.idle": "2024-01-07T08:32:19.88869Z",
     "shell.execute_reply": "2024-01-07T08:32:19.887692Z",
     "shell.execute_reply.started": "2024-01-07T08:32:19.723177Z"
    },
    "scrolled": true,
    "trusted": true
   },
   "outputs": [],
   "source": [
    "# Q6. Which are the best rated shows/movies of each genre?\n",
    "for genre in all_genres:\n",
    "    print(genre,'--->')\n",
    "    print(df_with_ratings[df_with_ratings['Genre'].apply(lambda x: genre in x)].sort_values(by='Rating', ascending=False).iloc[1][['Title', 'Rating', 'Genre']])\n",
    "    print('---------------------------------------------')"
   ]
  },
  {
   "cell_type": "code",
   "execution_count": null,
   "metadata": {
    "execution": {
     "iopub.execute_input": "2024-01-07T08:32:19.89096Z",
     "iopub.status.busy": "2024-01-07T08:32:19.890549Z",
     "iopub.status.idle": "2024-01-07T08:32:20.067241Z",
     "shell.execute_reply": "2024-01-07T08:32:20.066071Z",
     "shell.execute_reply.started": "2024-01-07T08:32:19.890929Z"
    },
    "trusted": true
   },
   "outputs": [],
   "source": [
    "# The best rated shows/movies of each genre in table formart using tabulate library.\n",
    "from tabulate import tabulate\n",
    "\n",
    "for genre in all_genres:\n",
    "    genre_df = df_with_ratings[df_with_ratings['Genre'].apply(lambda x: genre in x)].sort_values(by='Rating', ascending=False).iloc[1][['Genre', 'Title', 'Rating']]\n",
    "    print(f\"\\nGenre: {genre}\\n\")\n",
    "    print(tabulate(genre_df.to_frame().T, headers='keys', tablefmt='github'))"
   ]
  },
  {
   "cell_type": "markdown",
   "metadata": {},
   "source": [
    "<a id=\"ch8\"></a>\n",
    "### 8. Visualization.\n",
    "In this section we will try to visualize the data using matplotlib to beter understand the data."
   ]
  },
  {
   "cell_type": "code",
   "execution_count": null,
   "metadata": {
    "execution": {
     "iopub.execute_input": "2024-01-07T08:32:20.068454Z",
     "iopub.status.busy": "2024-01-07T08:32:20.068177Z",
     "iopub.status.idle": "2024-01-07T08:32:20.090958Z",
     "shell.execute_reply": "2024-01-07T08:32:20.089897Z",
     "shell.execute_reply.started": "2024-01-07T08:32:20.06843Z"
    },
    "trusted": true
   },
   "outputs": [],
   "source": [
    "# Q7. Which are the top 10 most viewed shows/movies?\n",
    "top_10_shows = df_with_ratings.sort_values('Hours Viewed', ascending= False).head(10)\n",
    "top_10_shows"
   ]
  },
  {
   "cell_type": "code",
   "execution_count": null,
   "metadata": {
    "execution": {
     "iopub.execute_input": "2024-01-07T08:32:20.092899Z",
     "iopub.status.busy": "2024-01-07T08:32:20.092519Z",
     "iopub.status.idle": "2024-01-07T08:32:20.381381Z",
     "shell.execute_reply": "2024-01-07T08:32:20.379982Z",
     "shell.execute_reply.started": "2024-01-07T08:32:20.092867Z"
    },
    "trusted": true
   },
   "outputs": [],
   "source": [
    "# Visualization of top 10 most viewed shows/movies.\n",
    "plt.figure(figsize=(10, 6))\n",
    "\n",
    "sns.barplot(x='Hours Viewed', y='Title', data=top_10_shows)\n",
    "plt.title('Top 10 Most Viewed Netflix Shows (Jan-Jun 2023)')\n",
    "plt.xlabel('Hours Viewed (in 100 Millions)')\n",
    "plt.ylabel('Titles')\n",
    "plt.show()"
   ]
  },
  {
   "cell_type": "code",
   "execution_count": null,
   "metadata": {
    "execution": {
     "iopub.execute_input": "2024-01-07T08:32:20.383086Z",
     "iopub.status.busy": "2024-01-07T08:32:20.382706Z",
     "iopub.status.idle": "2024-01-07T08:32:20.394204Z",
     "shell.execute_reply": "2024-01-07T08:32:20.392552Z",
     "shell.execute_reply.started": "2024-01-07T08:32:20.383054Z"
    },
    "trusted": true
   },
   "outputs": [],
   "source": [
    "# 'Number of ratings' less then 100\n",
    "df_with_ratings[df_with_ratings['Number of Ratings'] < 100].shape"
   ]
  },
  {
   "cell_type": "markdown",
   "metadata": {},
   "source": [
    "We can see here  that there are around 1800 shows/movies which are rated by less then 100 people, that means might be the shows ratings isn't correct as the sample size is too small."
   ]
  },
  {
   "cell_type": "code",
   "execution_count": null,
   "metadata": {
    "execution": {
     "iopub.execute_input": "2024-01-07T08:32:20.396569Z",
     "iopub.status.busy": "2024-01-07T08:32:20.395707Z",
     "iopub.status.idle": "2024-01-07T08:32:20.430535Z",
     "shell.execute_reply": "2024-01-07T08:32:20.429502Z",
     "shell.execute_reply.started": "2024-01-07T08:32:20.396517Z"
    },
    "trusted": true
   },
   "outputs": [],
   "source": [
    "# Top 10 top rated movies/series of all time.\n",
    "top_ratted_show = df_with_ratings[df_with_ratings['Number of Ratings'] > 1000].sort_values('Rating', ascending=False).head(10)\n",
    "top_ratted_show"
   ]
  },
  {
   "cell_type": "code",
   "execution_count": null,
   "metadata": {
    "execution": {
     "iopub.execute_input": "2024-01-07T08:32:20.432539Z",
     "iopub.status.busy": "2024-01-07T08:32:20.431616Z",
     "iopub.status.idle": "2024-01-07T08:32:20.451555Z",
     "shell.execute_reply": "2024-01-07T08:32:20.450717Z",
     "shell.execute_reply.started": "2024-01-07T08:32:20.432501Z"
    },
    "trusted": true
   },
   "outputs": [],
   "source": [
    "# So, this is the list of top 10 most rated movies/shows in the year 2023.\n",
    "top_ratted_show_23 = df_with_ratings[(df_with_ratings['Number of Ratings'] > 1000) & (df_with_ratings['Release Year'] == 2023)].sort_values('Rating', ascending = False).head(10)\n",
    "top_ratted_show_23"
   ]
  },
  {
   "cell_type": "code",
   "execution_count": null,
   "metadata": {
    "execution": {
     "iopub.execute_input": "2024-01-07T08:32:20.453232Z",
     "iopub.status.busy": "2024-01-07T08:32:20.452781Z",
     "iopub.status.idle": "2024-01-07T08:32:20.721979Z",
     "shell.execute_reply": "2024-01-07T08:32:20.720948Z",
     "shell.execute_reply.started": "2024-01-07T08:32:20.453206Z"
    },
    "trusted": true
   },
   "outputs": [],
   "source": [
    "# Viewership of Top 10 Highest Rated Netflix Shows/Movies w.r.t. Hours Viewed.\n",
    "plt.figure(figsize=(8, 8))\n",
    "plt.pie(top_ratted_show_23['Hours Viewed'], labels=top_ratted_show_23['Title'], autopct='%1.1f%%')\n",
    "plt.title('Distribution of Viewership Among Top 10 Highest Rated Netflix Shows/Movies')\n",
    "plt.show()"
   ]
  },
  {
   "cell_type": "code",
   "execution_count": null,
   "metadata": {
    "execution": {
     "iopub.execute_input": "2024-01-07T08:32:20.723343Z",
     "iopub.status.busy": "2024-01-07T08:32:20.72306Z",
     "iopub.status.idle": "2024-01-07T08:32:21.091396Z",
     "shell.execute_reply": "2024-01-07T08:32:21.090409Z",
     "shell.execute_reply.started": "2024-01-07T08:32:20.723317Z"
    },
    "trusted": true
   },
   "outputs": [],
   "source": [
    "# Visualizing Viewership Across Release Years\n",
    "plt.figure(figsize=(12, 6))\n",
    "sns.boxplot(x='Release Year', y='Hours Viewed', data=df_with_ratings)\n",
    "plt.xlabel('Release Year')\n",
    "plt.ylabel('Hours Viewed')\n",
    "plt.title('Viewership Across Release Years')\n",
    "plt.show()"
   ]
  },
  {
   "cell_type": "markdown",
   "metadata": {},
   "source": [
    "We can see that viewership of Netflix increasing rapidly."
   ]
  },
  {
   "cell_type": "code",
   "execution_count": null,
   "metadata": {
    "execution": {
     "iopub.execute_input": "2024-01-07T08:32:21.092921Z",
     "iopub.status.busy": "2024-01-07T08:32:21.092509Z",
     "iopub.status.idle": "2024-01-07T08:32:21.260649Z",
     "shell.execute_reply": "2024-01-07T08:32:21.259969Z",
     "shell.execute_reply.started": "2024-01-07T08:32:21.092878Z"
    },
    "trusted": true
   },
   "outputs": [],
   "source": [
    "# How many movies/shows are available globally?\n",
    "sns.countplot(x='Available Globally', data=df_with_ratings)\n",
    "plt.title('Count of Movies/Shows Available Globally')\n",
    "plt.show()"
   ]
  },
  {
   "cell_type": "code",
   "execution_count": null,
   "metadata": {
    "execution": {
     "iopub.execute_input": "2024-01-07T08:32:21.262509Z",
     "iopub.status.busy": "2024-01-07T08:32:21.26152Z",
     "iopub.status.idle": "2024-01-07T08:32:21.398938Z",
     "shell.execute_reply": "2024-01-07T08:32:21.398208Z",
     "shell.execute_reply.started": "2024-01-07T08:32:21.262483Z"
    },
    "trusted": true
   },
   "outputs": [],
   "source": [
    "# Percentage of movies/series available globaly\n",
    "global_counts = df_with_ratings['Available Globally'].map({'Yes': 1, 'No': 0}).value_counts()\n",
    "\n",
    "plt.figure(figsize=(8, 8))\n",
    "plt.pie(global_counts, labels=global_counts.index, autopct='%1.1f%%', colors=['#48dbfb', '#9980FA'])\n",
    "plt.title('Count of Movies Available Globally')\n",
    "plt.legend(labels=['Yes', 'No'], loc='upper right')\n",
    "plt.show()"
   ]
  },
  {
   "cell_type": "markdown",
   "metadata": {},
   "source": [
    "That means 3/4th of the allshows or movies are available globally."
   ]
  },
  {
   "cell_type": "code",
   "execution_count": null,
   "metadata": {
    "execution": {
     "iopub.execute_input": "2024-01-07T08:32:21.40067Z",
     "iopub.status.busy": "2024-01-07T08:32:21.399989Z",
     "iopub.status.idle": "2024-01-07T08:32:21.986409Z",
     "shell.execute_reply": "2024-01-07T08:32:21.985046Z",
     "shell.execute_reply.started": "2024-01-07T08:32:21.400645Z"
    },
    "trusted": true
   },
   "outputs": [],
   "source": [
    "# Movies/Shows released timeline.\n",
    "df_with_ratings['Release Date'] = pd.to_datetime(df_with_ratings['Release Date'], errors='coerce')\n",
    "\n",
    "plt.figure(figsize=(12, 6))\n",
    "sns.histplot(df_with_ratings['Release Date'], bins=20, kde=True, color='salmon')\n",
    "plt.xlabel('Release Date')\n",
    "plt.ylabel('Frequency')\n",
    "plt.title('Distribution of Release Dates')\n",
    "plt.show()"
   ]
  },
  {
   "cell_type": "code",
   "execution_count": null,
   "metadata": {
    "execution": {
     "iopub.execute_input": "2024-01-07T08:32:21.988359Z",
     "iopub.status.busy": "2024-01-07T08:32:21.988039Z",
     "iopub.status.idle": "2024-01-07T08:32:22.087261Z",
     "shell.execute_reply": "2024-01-07T08:32:22.085874Z",
     "shell.execute_reply.started": "2024-01-07T08:32:21.98833Z"
    },
    "trusted": true
   },
   "outputs": [],
   "source": [
    "# How many shows/movies per genre.\n",
    "genre_counts = {}\n",
    "for genre in all_genres:\n",
    "    genre_counts[genre] = df_with_ratings['Genre'].apply(lambda x: genre in x).sum()\n",
    "    \n",
    "genre_counts"
   ]
  },
  {
   "cell_type": "code",
   "execution_count": null,
   "metadata": {
    "execution": {
     "iopub.execute_input": "2024-01-07T08:32:22.08967Z",
     "iopub.status.busy": "2024-01-07T08:32:22.089328Z",
     "iopub.status.idle": "2024-01-07T08:32:22.099184Z",
     "shell.execute_reply": "2024-01-07T08:32:22.098088Z",
     "shell.execute_reply.started": "2024-01-07T08:32:22.089641Z"
    },
    "trusted": true
   },
   "outputs": [],
   "source": [
    "# Most popular genre\n",
    "most_popular_genre = max(genre_counts, key=genre_counts.get)\n",
    "most_popular_genre"
   ]
  },
  {
   "cell_type": "markdown",
   "metadata": {},
   "source": [
    "Drama is the most poopular genre with 5847 shows/movies."
   ]
  },
  {
   "cell_type": "code",
   "execution_count": null,
   "metadata": {
    "execution": {
     "iopub.execute_input": "2024-01-07T08:32:22.101088Z",
     "iopub.status.busy": "2024-01-07T08:32:22.10069Z",
     "iopub.status.idle": "2024-01-07T08:32:23.289294Z",
     "shell.execute_reply": "2024-01-07T08:32:23.288377Z",
     "shell.execute_reply.started": "2024-01-07T08:32:22.101058Z"
    },
    "trusted": true
   },
   "outputs": [],
   "source": [
    "# Most watched genre according to Hours Viewed.\n",
    "genre_watch_hours = {}\n",
    "\n",
    "for _, row in df_with_ratings.iterrows():\n",
    "    genres = row['Genre']\n",
    "    watch_hours = row['Hours Viewed']\n",
    "\n",
    "    if not isinstance(genres, list):\n",
    "        try:\n",
    "            genres = eval(genres)\n",
    "        except (SyntaxError, NameError):\n",
    "            genres = []\n",
    "\n",
    "    for genre in genres:\n",
    "        if genre in genre_watch_hours:\n",
    "            genre_watch_hours[genre] += watch_hours\n",
    "        else:\n",
    "            genre_watch_hours[genre] = watch_hours\n",
    "\n",
    "genre_watch_hours_df = pd.DataFrame(list(genre_watch_hours.items()), columns=['Genre', 'Total Watch Hours'])\n",
    "\n",
    "most_popular_genre = genre_watch_hours_df.loc[genre_watch_hours_df['Total Watch Hours'].idxmax(), 'Genre']\n",
    "\n",
    "print(f\"The most popular genre is: {most_popular_genre}\")\n",
    "genre_watch_hours_df.sort_values(by = 'Total Watch Hours', ascending=False)"
   ]
  },
  {
   "cell_type": "code",
   "execution_count": null,
   "metadata": {
    "execution": {
     "iopub.execute_input": "2024-01-07T08:32:23.290806Z",
     "iopub.status.busy": "2024-01-07T08:32:23.290345Z",
     "iopub.status.idle": "2024-01-07T08:32:23.679828Z",
     "shell.execute_reply": "2024-01-07T08:32:23.678971Z",
     "shell.execute_reply.started": "2024-01-07T08:32:23.290776Z"
    },
    "trusted": true
   },
   "outputs": [],
   "source": [
    "# Visualization Most watched genre according to Hours Viewed.\n",
    "plt.figure(figsize=(12, 8))\n",
    "plt.bar(genre_watch_hours_df['Genre'], genre_watch_hours_df['Total Watch Hours'], color='skyblue')\n",
    "plt.xlabel('Genre')\n",
    "plt.ylabel('Total Watch Hours')\n",
    "plt.title('Total Watch Hours by Genre')\n",
    "plt.xticks(rotation=90, ha='right')\n",
    "plt.tight_layout()\n",
    "plt.show()"
   ]
  },
  {
   "cell_type": "code",
   "execution_count": null,
   "metadata": {
    "execution": {
     "iopub.execute_input": "2024-01-07T08:32:23.682014Z",
     "iopub.status.busy": "2024-01-07T08:32:23.681653Z",
     "iopub.status.idle": "2024-01-07T08:32:24.03133Z",
     "shell.execute_reply": "2024-01-07T08:32:24.030161Z",
     "shell.execute_reply.started": "2024-01-07T08:32:23.681981Z"
    },
    "trusted": true
   },
   "outputs": [],
   "source": [
    "# Relationship between Hours Viewed and Release Date\n",
    "plt.figure(figsize=(12, 6))\n",
    "sns.scatterplot(x='Release Date', y='Hours Viewed', data=df_with_ratings, color='coral')\n",
    "plt.xlabel('Release Date')\n",
    "plt.ylabel('Hours Viewed')\n",
    "plt.title('Relationship between Hours Viewed and Release Date')\n",
    "plt.show()"
   ]
  },
  {
   "cell_type": "code",
   "execution_count": null,
   "metadata": {
    "execution": {
     "iopub.execute_input": "2024-01-07T08:32:24.033442Z",
     "iopub.status.busy": "2024-01-07T08:32:24.03243Z",
     "iopub.status.idle": "2024-01-07T08:32:24.05938Z",
     "shell.execute_reply": "2024-01-07T08:32:24.058172Z",
     "shell.execute_reply.started": "2024-01-07T08:32:24.033413Z"
    },
    "trusted": true
   },
   "outputs": [],
   "source": [
    "# There are somoe shows/movies they don't have release date so they dont have release month.\n",
    "df_with_month = df_with_ratings[df_with_ratings['Release Month'] != 0]\n",
    "df_with_month.sample(3)"
   ]
  },
  {
   "cell_type": "code",
   "execution_count": null,
   "metadata": {
    "execution": {
     "iopub.execute_input": "2024-01-07T08:32:24.061647Z",
     "iopub.status.busy": "2024-01-07T08:32:24.06129Z",
     "iopub.status.idle": "2024-01-07T08:32:24.311784Z",
     "shell.execute_reply": "2024-01-07T08:32:24.310933Z",
     "shell.execute_reply.started": "2024-01-07T08:32:24.061613Z"
    },
    "trusted": true
   },
   "outputs": [],
   "source": [
    "# Total nos of Show Realeses in Each Month.\n",
    "sns.countplot(x='Release Month', data=df_with_month)\n",
    "plt.title('Count of release each month')\n",
    "plt.xlabel('Release Month in number')\n",
    "plt.ylabel('Total Releases')\n",
    "plt.title('Total nos of Show Realeses in Each Month.')\n",
    "plt.show()"
   ]
  },
  {
   "cell_type": "markdown",
   "metadata": {},
   "source": [
    "From this plot we can see that there are so many movies/shows are releasing in winters."
   ]
  },
  {
   "cell_type": "code",
   "execution_count": null,
   "metadata": {},
   "outputs": [],
   "source": []
  },
  {
   "cell_type": "code",
   "execution_count": null,
   "metadata": {},
   "outputs": [],
   "source": []
  },
  {
   "cell_type": "markdown",
   "metadata": {},
   "source": [
    "<a id=\"ch9\"></a>\n",
    "### 9. Conclusion\n",
    "I didn't use descriptions and Key Words column.. If anyone have ideas about how to use those columns, Feel free to Copy or Edit or give feedbacks.\n",
    "\n",
    "**Thank You have a great day**"
   ]
  }
 ],
 "metadata": {
  "kaggle": {
   "accelerator": "none",
   "dataSources": [
    {
     "datasetId": 4170814,
     "sourceId": 7208762,
     "sourceType": "datasetVersion"
    }
   ],
   "dockerImageVersionId": 30626,
   "isGpuEnabled": false,
   "isInternetEnabled": false,
   "language": "python",
   "sourceType": "notebook"
  },
  "kernelspec": {
   "display_name": "venv",
   "language": "python",
   "name": "python3"
  },
  "language_info": {
   "codemirror_mode": {
    "name": "ipython",
    "version": 3
   },
   "file_extension": ".py",
   "mimetype": "text/x-python",
   "name": "python",
   "nbconvert_exporter": "python",
   "pygments_lexer": "ipython3",
   "version": "3.13.2"
  }
 },
 "nbformat": 4,
 "nbformat_minor": 4
}
