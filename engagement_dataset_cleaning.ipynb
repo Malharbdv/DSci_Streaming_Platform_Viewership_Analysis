{
 "cells": [
  {
   "cell_type": "code",
   "execution_count": 1,
   "metadata": {},
   "outputs": [],
   "source": [
    "import pandas as pd\n",
    "import numpy as np\n",
    "import seaborn as sns\n",
    "import matplotlib.pyplot as plt"
   ]
  },
  {
   "cell_type": "code",
   "execution_count": 2,
   "metadata": {},
   "outputs": [],
   "source": [
    "df = pd.read_csv('limited_engagement_2023_h1_plus.csv')"
   ]
  },
  {
   "cell_type": "code",
   "execution_count": 3,
   "metadata": {},
   "outputs": [
    {
     "name": "stdout",
     "output_type": "stream",
     "text": [
      "<class 'pandas.core.frame.DataFrame'>\n",
      "RangeIndex: 12937 entries, 0 to 12936\n",
      "Data columns (total 10 columns):\n",
      " #   Column               Non-Null Count  Dtype  \n",
      "---  ------               --------------  -----  \n",
      " 0   Unnamed: 0           12937 non-null  int64  \n",
      " 1   Title                12937 non-null  object \n",
      " 2   Available Globally?  12937 non-null  object \n",
      " 3   Release Date         4218 non-null   object \n",
      " 4   Hours Viewed         12937 non-null  int64  \n",
      " 5   Number of Ratings    9963 non-null   float64\n",
      " 6   Rating               9963 non-null   float64\n",
      " 7   Genre                11089 non-null  object \n",
      " 8   Key Words            8951 non-null   object \n",
      " 9   Description          7512 non-null   object \n",
      "dtypes: float64(2), int64(2), object(6)\n",
      "memory usage: 1010.8+ KB\n"
     ]
    },
    {
     "data": {
      "text/plain": [
       "Index(['Unnamed: 0', 'Title', 'Available Globally?', 'Release Date',\n",
       "       'Hours Viewed', 'Number of Ratings', 'Rating', 'Genre', 'Key Words',\n",
       "       'Description'],\n",
       "      dtype='object')"
      ]
     },
     "execution_count": 3,
     "metadata": {},
     "output_type": "execute_result"
    }
   ],
   "source": [
    "df.head()\n",
    "df.info()\n",
    "df.columns"
   ]
  },
  {
   "cell_type": "code",
   "execution_count": 4,
   "metadata": {},
   "outputs": [
    {
     "data": {
      "text/plain": [
       "Unnamed: 0                0\n",
       "Title                     0\n",
       "Available Globally?       0\n",
       "Release Date           8719\n",
       "Hours Viewed              0\n",
       "Number of Ratings      2974\n",
       "Rating                 2974\n",
       "Genre                  1848\n",
       "Key Words              3986\n",
       "Description            5425\n",
       "dtype: int64"
      ]
     },
     "execution_count": 4,
     "metadata": {},
     "output_type": "execute_result"
    }
   ],
   "source": [
    "df.isnull().sum()"
   ]
  },
  {
   "cell_type": "code",
   "execution_count": 5,
   "metadata": {},
   "outputs": [
    {
     "name": "stdout",
     "output_type": "stream",
     "text": [
      "85\n"
     ]
    }
   ],
   "source": [
    "print(df['Title'].duplicated().sum())"
   ]
  },
  {
   "cell_type": "code",
   "execution_count": 6,
   "metadata": {},
   "outputs": [
    {
     "data": {
      "application/vnd.microsoft.datawrangler.viewer.v0+json": {
       "columns": [
        {
         "name": "index",
         "rawType": "object",
         "type": "string"
        },
        {
         "name": "count",
         "rawType": "float64",
         "type": "float"
        },
        {
         "name": "mean",
         "rawType": "float64",
         "type": "float"
        },
        {
         "name": "std",
         "rawType": "float64",
         "type": "float"
        },
        {
         "name": "min",
         "rawType": "float64",
         "type": "float"
        },
        {
         "name": "25%",
         "rawType": "float64",
         "type": "float"
        },
        {
         "name": "50%",
         "rawType": "float64",
         "type": "float"
        },
        {
         "name": "75%",
         "rawType": "float64",
         "type": "float"
        },
        {
         "name": "max",
         "rawType": "float64",
         "type": "float"
        }
       ],
       "conversionMethod": "pd.DataFrame",
       "ref": "cbe88cae-f8ec-4ddd-93f7-64f00395c765",
       "rows": [
        [
         "Unnamed: 0",
         "12937.0",
         "8709.49153590477",
         "5253.384647543878",
         "0.0",
         "4139.0",
         "8466.0",
         "13226.0",
         "18320.0"
        ],
        [
         "Hours Viewed",
         "12937.0",
         "5536167.581355801",
         "19167054.082803167",
         "100000.0",
         "200000.0",
         "900000.0",
         "4000000.0",
         "812100000.0"
        ],
        [
         "Number of Ratings",
         "9963.0",
         "45053.17394359129",
         "145706.62862241955",
         "5.0",
         "330.0",
         "2652.0",
         "18984.0",
         "2829797.0"
        ],
        [
         "Rating",
         "9963.0",
         "6.556539195021579",
         "1.2302477324427468",
         "1.4",
         "5.8",
         "6.6",
         "7.4",
         "10.0"
        ]
       ],
       "shape": {
        "columns": 8,
        "rows": 4
       }
      },
      "text/html": [
       "<div>\n",
       "<style scoped>\n",
       "    .dataframe tbody tr th:only-of-type {\n",
       "        vertical-align: middle;\n",
       "    }\n",
       "\n",
       "    .dataframe tbody tr th {\n",
       "        vertical-align: top;\n",
       "    }\n",
       "\n",
       "    .dataframe thead th {\n",
       "        text-align: right;\n",
       "    }\n",
       "</style>\n",
       "<table border=\"1\" class=\"dataframe\">\n",
       "  <thead>\n",
       "    <tr style=\"text-align: right;\">\n",
       "      <th></th>\n",
       "      <th>count</th>\n",
       "      <th>mean</th>\n",
       "      <th>std</th>\n",
       "      <th>min</th>\n",
       "      <th>25%</th>\n",
       "      <th>50%</th>\n",
       "      <th>75%</th>\n",
       "      <th>max</th>\n",
       "    </tr>\n",
       "  </thead>\n",
       "  <tbody>\n",
       "    <tr>\n",
       "      <th>Unnamed: 0</th>\n",
       "      <td>12937.0</td>\n",
       "      <td>8.709492e+03</td>\n",
       "      <td>5.253385e+03</td>\n",
       "      <td>0.0</td>\n",
       "      <td>4139.0</td>\n",
       "      <td>8466.0</td>\n",
       "      <td>13226.0</td>\n",
       "      <td>18320.0</td>\n",
       "    </tr>\n",
       "    <tr>\n",
       "      <th>Hours Viewed</th>\n",
       "      <td>12937.0</td>\n",
       "      <td>5.536168e+06</td>\n",
       "      <td>1.916705e+07</td>\n",
       "      <td>100000.0</td>\n",
       "      <td>200000.0</td>\n",
       "      <td>900000.0</td>\n",
       "      <td>4000000.0</td>\n",
       "      <td>812100000.0</td>\n",
       "    </tr>\n",
       "    <tr>\n",
       "      <th>Number of Ratings</th>\n",
       "      <td>9963.0</td>\n",
       "      <td>4.505317e+04</td>\n",
       "      <td>1.457066e+05</td>\n",
       "      <td>5.0</td>\n",
       "      <td>330.0</td>\n",
       "      <td>2652.0</td>\n",
       "      <td>18984.0</td>\n",
       "      <td>2829797.0</td>\n",
       "    </tr>\n",
       "    <tr>\n",
       "      <th>Rating</th>\n",
       "      <td>9963.0</td>\n",
       "      <td>6.556539e+00</td>\n",
       "      <td>1.230248e+00</td>\n",
       "      <td>1.4</td>\n",
       "      <td>5.8</td>\n",
       "      <td>6.6</td>\n",
       "      <td>7.4</td>\n",
       "      <td>10.0</td>\n",
       "    </tr>\n",
       "  </tbody>\n",
       "</table>\n",
       "</div>"
      ],
      "text/plain": [
       "                     count          mean           std       min       25%  \\\n",
       "Unnamed: 0         12937.0  8.709492e+03  5.253385e+03       0.0    4139.0   \n",
       "Hours Viewed       12937.0  5.536168e+06  1.916705e+07  100000.0  200000.0   \n",
       "Number of Ratings   9963.0  4.505317e+04  1.457066e+05       5.0     330.0   \n",
       "Rating              9963.0  6.556539e+00  1.230248e+00       1.4       5.8   \n",
       "\n",
       "                        50%        75%          max  \n",
       "Unnamed: 0           8466.0    13226.0      18320.0  \n",
       "Hours Viewed       900000.0  4000000.0  812100000.0  \n",
       "Number of Ratings    2652.0    18984.0    2829797.0  \n",
       "Rating                  6.6        7.4         10.0  "
      ]
     },
     "execution_count": 6,
     "metadata": {},
     "output_type": "execute_result"
    }
   ],
   "source": [
    "df.describe().T"
   ]
  },
  {
   "cell_type": "code",
   "execution_count": 7,
   "metadata": {},
   "outputs": [
    {
     "data": {
      "text/plain": [
       "Available Globally?\n",
       "No     8967\n",
       "Yes    3970\n",
       "Name: count, dtype: int64"
      ]
     },
     "execution_count": 7,
     "metadata": {},
     "output_type": "execute_result"
    }
   ],
   "source": [
    "df['Available Globally?'].value_counts()"
   ]
  },
  {
   "cell_type": "code",
   "execution_count": 8,
   "metadata": {},
   "outputs": [
    {
     "data": {
      "image/png": "[encoded data removed]",
      "text/plain": [
       "<Figure size 600x600 with 1 Axes>"
      ]
     },
     "metadata": {},
     "output_type": "display_data"
    }
   ],
   "source": [
    "value_count = df['Available Globally?'].value_counts()\n",
    "\n",
    "plt.figure(figsize=(6,6))\n",
    "plt.pie(value_count,labels=value_count.index,autopct='%1.1f%%',startangle=90, colors=['lightcoral','lightgreen'])\n",
    "plt.title('Shows Distributed Globally vs Non-Globally')\n",
    "plt.show()"
   ]
  },
  {
   "cell_type": "code",
   "execution_count": 9,
   "metadata": {},
   "outputs": [
    {
     "name": "stderr",
     "output_type": "stream",
     "text": [
      "/home/malhar/User_Drive/TY_Study/dsci_netflix_viewership_analysis_python/venv/lib/python3.13/site-packages/pandas/core/series.py:1031: RuntimeWarning: invalid value encountered in cast\n",
      "  arr = np.asarray(values, dtype=dtype)\n"
     ]
    }
   ],
   "source": [
    "df['Release Date'] = pd.to_datetime(df['Release Date'])\n",
    "df['Number of Ratings'] = np.int64(df['Number of Ratings'])\n",
    "df['Release Year'] = df['Release Date'].dt.year.fillna(0).astype('int64')\n",
    "df['Release Month'] = df['Release Date'].dt.month.fillna(0).astype('int64')\n",
    "df['Release Day'] = df['Release Date'].dt.day_name()"
   ]
  },
  {
   "cell_type": "code",
   "execution_count": 10,
   "metadata": {},
   "outputs": [
    {
     "name": "stderr",
     "output_type": "stream",
     "text": [
      "/tmp/ipykernel_77474/2657341095.py:1: FutureWarning: A value is trying to be set on a copy of a DataFrame or Series through chained assignment using an inplace method.\n",
      "The behavior will change in pandas 3.0. This inplace method will never work because the intermediate object on which we are setting values always behaves as a copy.\n",
      "\n",
      "For example, when doing 'df[col].method(value, inplace=True)', try using 'df.method({col: value}, inplace=True)' or df[col] = df[col].method(value) instead, to perform the operation inplace on the original object.\n",
      "\n",
      "\n",
      "  df['Release Day'].fillna('Unknown', inplace = True)\n"
     ]
    }
   ],
   "source": [
    "df['Release Day'].fillna('Unknown', inplace = True)"
   ]
  },
  {
   "cell_type": "code",
   "execution_count": 11,
   "metadata": {},
   "outputs": [
    {
     "data": {
      "text/plain": [
       "np.int64(2829797)"
      ]
     },
     "execution_count": 11,
     "metadata": {},
     "output_type": "execute_result"
    }
   ],
   "source": [
    "df['Number of Ratings'].max()\n"
   ]
  },
  {
   "cell_type": "code",
   "execution_count": 12,
   "metadata": {},
   "outputs": [
    {
     "data": {
      "text/plain": [
       "np.int64(-9223372036854775808)"
      ]
     },
     "execution_count": 12,
     "metadata": {},
     "output_type": "execute_result"
    }
   ],
   "source": [
    "df['Number of Ratings'].min()"
   ]
  },
  {
   "cell_type": "code",
   "execution_count": 13,
   "metadata": {},
   "outputs": [
    {
     "data": {
      "text/plain": [
       "np.int64(2974)"
      ]
     },
     "execution_count": 13,
     "metadata": {},
     "output_type": "execute_result"
    }
   ],
   "source": [
    "df[df['Number of Ratings'] <= 0]['Number of Ratings'].count()"
   ]
  },
  {
   "cell_type": "code",
   "execution_count": 14,
   "metadata": {},
   "outputs": [
    {
     "data": {
      "text/plain": [
       "1"
      ]
     },
     "execution_count": 14,
     "metadata": {},
     "output_type": "execute_result"
    }
   ],
   "source": [
    "df[df['Number of Ratings'] <= 0]['Number of Ratings'].nunique()"
   ]
  },
  {
   "cell_type": "code",
   "execution_count": 15,
   "metadata": {},
   "outputs": [],
   "source": [
    "df[\"Available Globally\"] = df[\"Available Globally?\"]\n",
    "df.drop(columns=(\"Available Globally?\"), axis = 1, inplace = True)"
   ]
  },
  {
   "cell_type": "code",
   "execution_count": 16,
   "metadata": {},
   "outputs": [
    {
     "name": "stderr",
     "output_type": "stream",
     "text": [
      "/tmp/ipykernel_77474/1243896740.py:6: FutureWarning: A value is trying to be set on a copy of a DataFrame or Series through chained assignment using an inplace method.\n",
      "The behavior will change in pandas 3.0. This inplace method will never work because the intermediate object on which we are setting values always behaves as a copy.\n",
      "\n",
      "For example, when doing 'df[col].method(value, inplace=True)', try using 'df.method({col: value}, inplace=True)' or df[col] = df[col].method(value) instead, to perform the operation inplace on the original object.\n",
      "\n",
      "\n",
      "  df['Rating'].fillna(df['Rating'].median(), inplace=True)\n"
     ]
    },
    {
     "data": {
      "text/plain": [
       "array([\"['Biography', 'Drama', 'History']\",\n",
       "       \"['Comedy', 'Drama', 'Romance']\",\n",
       "       \"['Drama', 'History', 'Romance']\", \"['Comedy', 'Romance']\",\n",
       "       \"['Action', 'Crime', 'Drama']\", nan, \"['Documentary', 'Short']\",\n",
       "       \"['Crime', 'Drama', 'Mystery']\", \"['Action', 'Thriller']\",\n",
       "       \"['Short']\", \"['Action', 'Adventure', 'Drama']\",\n",
       "       \"['Horror', 'Mystery', 'Sci-Fi']\",\n",
       "       \"['Family', 'History', 'Sport']\", \"['Romance']\",\n",
       "       \"['Drama', 'Horror', 'Thriller']\", \"['Action', 'Comedy', 'Crime']\",\n",
       "       \"['Comedy']\", \"['Adventure', 'Family', 'Fantasy']\",\n",
       "       \"['Animation', 'Action', 'Adventure']\",\n",
       "       \"['Adventure', 'Comedy', 'Family']\",\n",
       "       \"['Short', 'Drama', 'Western']\", \"['Comedy', 'Crime', 'Drama']\",\n",
       "       \"['Animation', 'Short']\", \"['Drama', 'Fantasy', 'Horror']\",\n",
       "       \"['Crime', 'Drama']\", \"['Animation', 'Short', 'Adventure']\",\n",
       "       \"['Sport']\", \"['Adventure', 'Comedy', 'Drama']\",\n",
       "       \"['Crime', 'Horror', 'Mystery']\", \"['Documentary']\",\n",
       "       \"['Short', 'Drama']\", \"['Family', 'Musical', 'Animation']\",\n",
       "       \"['Documentary', 'Crime']\", \"['Drama']\",\n",
       "       \"['Comedy', 'Music', 'Talk-Show']\", \"['Short', 'Comedy']\",\n",
       "       \"['Drama', 'Western']\", \"['Comedy', 'Drama', 'Music']\",\n",
       "       \"['Short', 'Action', 'Drama']\", \"['Short', 'Drama', 'War']\",\n",
       "       \"['Documentary', 'Sport']\", \"['Biography', 'Crime', 'Drama']\",\n",
       "       \"['Comedy', 'Talk-Show']\", \"['Action', 'Drama', 'History']\",\n",
       "       \"['Biography', 'Drama', 'War']\", \"['Musical', 'Short']\",\n",
       "       \"['Action', 'Sport']\", \"['Drama', 'War']\", \"['Sci-Fi']\",\n",
       "       \"['Documentary', 'Short', 'Horror']\",\n",
       "       \"['Animation', 'Adventure', 'Comedy']\", \"['Short', 'Sci-Fi']\",\n",
       "       \"['Drama', 'Music']\", \"['Animation', 'Comedy', 'Sci-Fi']\",\n",
       "       \"['Talk-Show']\", \"['Comedy', 'Drama']\",\n",
       "       \"['Action', 'Comedy', 'Thriller']\", \"['Horror', 'Thriller']\",\n",
       "       \"['Reality-TV']\", \"['Animation', 'Family']\",\n",
       "       \"['Action', 'Adventure', 'Comedy']\", \"['Animation', 'Comedy']\",\n",
       "       \"['Action', 'Adventure', 'Crime']\", \"['Short', 'Family']\",\n",
       "       \"['Short', 'Comedy', 'Musical']\", \"['Action', 'Comedy', 'Drama']\",\n",
       "       \"['Family']\", \"['Adventure', 'Comedy', 'Romance']\",\n",
       "       \"['Animation', 'Short', 'Horror']\",\n",
       "       \"['Short', 'Drama', 'History']\", \"['Thriller']\",\n",
       "       \"['Short', 'Romance']\", \"['Action', 'Drama']\",\n",
       "       \"['Short', 'Musical']\", \"['Documentary', 'Crime', 'History']\",\n",
       "       \"['Mystery', 'Thriller']\", \"['Animation', 'Drama', 'Sport']\",\n",
       "       \"['Drama', 'Music', 'Romance']\", \"['Short', 'Documentary']\",\n",
       "       \"['Game-Show', 'Reality-TV']\", \"['Drama', 'Horror', 'Sci-Fi']\",\n",
       "       \"['Action', 'Crime', 'Thriller']\", \"['Short', 'Horror']\",\n",
       "       \"['Documentary', 'Biography']\", \"['Crime', 'Drama', 'Thriller']\",\n",
       "       \"['Adventure']\", \"['Horror']\", \"['Animation', 'Action', 'Drama']\",\n",
       "       \"['Drama', 'Horror', 'Mystery']\",\n",
       "       \"['Game-Show', 'Reality-TV', 'Romance']\",\n",
       "       \"['Action', 'Adventure', 'Sci-Fi']\", \"['Short', 'Sport']\",\n",
       "       \"['Action', 'Sci-Fi']\", \"['Animation']\",\n",
       "       \"['Adventure', 'Family', 'Romance']\", \"['Action', 'Comedy']\",\n",
       "       \"['Short', 'Drama', 'Thriller']\",\n",
       "       \"['Comedy', 'News', 'Talk-Show']\",\n",
       "       \"['Action', 'Adventure', 'Family']\",\n",
       "       \"['Comedy', 'Fantasy', 'Thriller']\",\n",
       "       \"['Comedy', 'Crime', 'Mystery']\", \"['Comedy', 'Drama', 'Family']\",\n",
       "       \"['Documentary', 'Comedy']\", \"['Crime', 'Thriller']\",\n",
       "       \"['Short', 'Action', 'Comedy']\",\n",
       "       \"['Documentary', 'Short', 'Sport']\",\n",
       "       \"['Comedy', 'Music', 'Romance']\", \"['Drama', 'Romance']\",\n",
       "       \"['Documentary', 'Drama', 'History']\", \"['Comedy', 'Fantasy']\",\n",
       "       \"['Documentary', 'Music']\", \"['Documentary', 'Family', 'News']\",\n",
       "       \"['Action', 'Drama', 'Thriller']\", \"['Drama', 'Sport']\",\n",
       "       \"['Drama', 'Romance', 'Sci-Fi']\", \"['Reality-TV', 'Romance']\",\n",
       "       \"['Animation', 'Action', 'Fantasy']\", \"['News']\",\n",
       "       \"['Short', 'News']\", \"['Short', 'Talk-Show']\",\n",
       "       \"['Drama', 'Romance', 'Thriller']\", \"['Drama', 'Family', 'Sport']\",\n",
       "       \"['Drama', 'Family']\", \"['Action']\",\n",
       "       \"['Action', 'Drama', 'Fantasy']\", \"['Comedy', 'Crime', 'Sport']\",\n",
       "       \"['Animation', 'Family', 'Music']\",\n",
       "       \"['Animation', 'Drama', 'Horror']\",\n",
       "       \"['Crime', 'Drama', 'Romance']\", \"['Crime', 'Drama', 'Fantasy']\",\n",
       "       \"['Comedy', 'Crime']\", \"['Comedy', 'Drama', 'Sport']\",\n",
       "       \"['Biography', 'Drama', 'Music']\", \"['History']\",\n",
       "       \"['Comedy', 'Drama', 'Sci-Fi']\", \"['Action', 'Drama', 'Family']\",\n",
       "       \"['Animation', 'Short', 'Action']\",\n",
       "       \"['Short', 'Adventure', 'Romance']\",\n",
       "       \"['Animation', 'Comedy', 'Drama']\", \"['Adventure', 'Drama']\",\n",
       "       \"['Family', 'Animation', 'Short']\",\n",
       "       \"['Animation', 'Family', 'Short']\",\n",
       "       \"['Drama', 'Mystery', 'Thriller']\",\n",
       "       \"['Fantasy', 'Music', 'Romance']\",\n",
       "       \"['Musical', 'Comedy', 'Short']\", \"['Action', 'Drama', 'Western']\",\n",
       "       \"['Crime', 'Drama', 'Horror']\",\n",
       "       \"['Action', 'Adventure', 'Romance']\",\n",
       "       \"['Animation', 'Adventure', 'Family']\", \"['Drama', 'Fantasy']\",\n",
       "       \"['Comedy', 'Drama', 'Fantasy']\",\n",
       "       \"['Animation', 'Comedy', 'Family']\",\n",
       "       \"['Action', 'Adventure', 'Horror']\", \"['Short', 'Animation']\",\n",
       "       \"['Action', 'Adventure', 'History']\",\n",
       "       \"['Documentary', 'Short', 'Drama']\",\n",
       "       \"['Biography', 'Drama', 'Sport']\",\n",
       "       \"['Action', 'Thriller', 'Western']\",\n",
       "       \"['Action', 'Crime', 'Sci-Fi']\",\n",
       "       \"['Action', 'Biography', 'Drama']\",\n",
       "       \"['Crime', 'Drama', 'History']\",\n",
       "       \"['Documentary', 'Crime', 'Mystery']\", \"['Comedy', 'Family']\",\n",
       "       \"['Animation', 'Action', 'Comedy']\",\n",
       "       \"['Action', 'Fantasy', 'Horror']\",\n",
       "       \"['Action', 'Adventure', 'Thriller']\",\n",
       "       \"['Animation', 'Action', 'Family']\",\n",
       "       \"['Action', 'Drama', 'Horror']\", \"['Music', 'Reality-TV']\",\n",
       "       \"['Romance', 'Drama']\", \"['Adventure', 'Comedy', 'Fantasy']\",\n",
       "       \"['Short', 'Drama', 'Family']\", \"['Short', 'Comedy', 'Family']\",\n",
       "       \"['Comedy', 'Family', 'Musical']\", \"['Comedy', 'Sport']\",\n",
       "       \"['Horror', 'Mystery', 'Thriller']\",\n",
       "       \"['Animation', 'Action', 'Crime']\",\n",
       "       \"['Adventure', 'Drama', 'Fantasy']\",\n",
       "       \"['Drama', 'Music', 'Musical']\",\n",
       "       \"['Adventure', 'Biography', 'Comedy']\", \"['Drama', 'Thriller']\",\n",
       "       \"['Short', 'Action']\", \"['Comedy', 'Family', 'Reality-TV']\",\n",
       "       \"['Drama', 'Family', 'Fantasy']\",\n",
       "       \"['Documentary', 'History', 'War']\",\n",
       "       \"['Animation', 'Family', 'Fantasy']\",\n",
       "       \"['Action', 'Adventure', 'Fantasy']\", \"['Short', 'Music']\",\n",
       "       \"['Biography', 'Drama', 'Thriller']\", \"['News', 'Talk-Show']\",\n",
       "       \"['Biography', 'Drama', 'Romance']\",\n",
       "       \"['Animation', 'Comedy', 'Fantasy']\",\n",
       "       \"['Crime', 'Horror', 'Thriller']\",\n",
       "       \"['Comedy', 'Drama', 'History']\",\n",
       "       \"['Action', 'Fantasy', 'Thriller']\",\n",
       "       \"['History', 'Comedy', 'Romance']\",\n",
       "       \"['Short', 'Horror', 'Thriller']\",\n",
       "       \"['Adventure', 'Horror', 'Mystery']\", \"['Short', 'Thriller']\",\n",
       "       \"['Horror', 'Sci-Fi', 'Thriller']\",\n",
       "       \"['Animation', 'Short', 'Comedy']\",\n",
       "       \"['Action', 'Comedy', 'Fantasy']\",\n",
       "       \"['Crime', 'Romance', 'Thriller']\", \"['Short', 'News', 'Sport']\",\n",
       "       \"['Action', 'Mystery', 'Thriller']\",\n",
       "       \"['Animation', 'Drama', 'War']\", \"['Drama', 'Fantasy', 'Romance']\",\n",
       "       \"['Short', 'Comedy', 'Music']\", \"['Action', 'Crime', 'Mystery']\",\n",
       "       \"['Adventure', 'Fantasy']\",\n",
       "       \"['Documentary', 'Short', 'Biography']\", \"['Comedy', 'Horror']\",\n",
       "       \"['Action', 'Comedy', 'History']\",\n",
       "       \"['Comedy', 'Horror', 'Mystery']\", \"['Short', 'Fantasy']\",\n",
       "       \"['Family', 'Reality-TV']\", \"['Animation', 'Short', 'Family']\",\n",
       "       \"['Documentary', 'History']\", \"['Action', 'Drama', 'Mystery']\",\n",
       "       \"['Adventure', 'Reality-TV']\", \"['Action', 'Fantasy']\",\n",
       "       \"['Comedy', 'Musical', 'Romance']\",\n",
       "       \"['Short', 'Drama', 'Romance']\", \"['Comedy', 'Musical']\",\n",
       "       \"['Documentary', 'News']\", \"['Horror', 'Music']\",\n",
       "       \"['Biography', 'Drama']\", \"['Action', 'Comedy', 'Family']\",\n",
       "       \"['Action', 'Comedy', 'Horror']\",\n",
       "       \"['Animation', 'Crime', 'Mystery']\", \"['Comedy', 'Music']\",\n",
       "       \"['Adventure', 'Drama', 'Thriller']\",\n",
       "       \"['Crime', 'Mystery', 'Thriller']\",\n",
       "       \"['Comedy', 'Drama', 'Musical']\",\n",
       "       \"['Documentary', 'Biography', 'Sport']\",\n",
       "       \"['Short', 'Comedy', 'Drama']\",\n",
       "       \"['Documentary', 'Short', 'History']\",\n",
       "       \"['Comedy', 'Romance', 'Sport']\",\n",
       "       \"['Drama', 'History', 'Thriller']\",\n",
       "       \"['Action', 'Adventure', 'Mystery']\",\n",
       "       \"['Comedy', 'Fantasy', 'Horror']\", \"['Action', 'Crime']\",\n",
       "       \"['Comedy', 'Fantasy', 'Romance']\",\n",
       "       \"['Action', 'Crime', 'Horror']\", \"['Short', 'History']\",\n",
       "       \"['Documentary', 'Short', 'Action']\",\n",
       "       \"['Short', 'Biography', 'Drama']\",\n",
       "       \"['Comedy', 'Family', 'Fantasy']\",\n",
       "       \"['Animation', 'Family', 'Sci-Fi']\",\n",
       "       \"['Animation', 'Comedy', 'Musical']\", \"['Drama', 'Musical']\",\n",
       "       \"['Short', 'Adventure']\", \"['Documentary', 'Biography', 'Crime']\",\n",
       "       \"['Action', 'Drama', 'War']\", \"['Documentary', 'Drama']\",\n",
       "       \"['Adventure', 'Drama', 'Sci-Fi']\",\n",
       "       \"['Documentary', 'Biography', 'Music']\",\n",
       "       \"['Short', 'Comedy', 'Crime']\",\n",
       "       \"['Animation', 'Musical', 'Short']\", \"['Short', 'War']\",\n",
       "       \"['Biography', 'Drama', 'Family']\", \"['Short', 'Mystery']\",\n",
       "       \"['Action', 'Drama', 'Sci-Fi']\", \"['Drama', 'Family', 'Mystery']\",\n",
       "       \"['Adventure', 'Horror', 'Thriller']\",\n",
       "       \"['Action', 'Biography', 'Crime']\", \"['Horror', 'Mystery']\",\n",
       "       \"['Drama', 'History']\", \"['Action', 'Horror', 'Thriller']\",\n",
       "       \"['Family', 'Sport']\", \"['Animation', 'Action', 'Sport']\",\n",
       "       \"['Documentary', 'Family']\", \"['Action', 'Horror', 'Sci-Fi']\",\n",
       "       \"['Comedy', 'Game-Show', 'News']\",\n",
       "       \"['Crime', 'Fantasy', 'Horror']\",\n",
       "       \"['Documentary', 'Biography', 'Drama']\",\n",
       "       \"['Documentary', 'Biography', 'History']\",\n",
       "       \"['Comedy', 'Family', 'Romance']\",\n",
       "       \"['Adventure', 'Comedy', 'Sci-Fi']\",\n",
       "       \"['Fantasy', 'Horror', 'Mystery']\",\n",
       "       \"['Animation', 'Comedy', 'Short']\", \"['Short', 'Drama', 'Crime']\",\n",
       "       \"['Animation', 'Family', 'Musical']\", \"['Action', 'Adventure']\",\n",
       "       \"['Biography', 'Comedy', 'Drama']\", \"['Action', 'History', 'War']\",\n",
       "       \"['Documentary', 'History', 'Sport']\", \"['Short', 'Crime']\",\n",
       "       \"['Adventure', 'Drama', 'Family']\",\n",
       "       \"['Drama', 'Fantasy', 'Mystery']\", \"['Drama', 'History', 'War']\",\n",
       "       \"['Action', 'Crime', 'Fantasy']\",\n",
       "       \"['Sci-Fi', 'Family', 'Animation']\",\n",
       "       \"['Adventure', 'Crime', 'Mystery']\",\n",
       "       \"['Action', 'Thriller', 'War']\", \"['Family', 'Drama']\",\n",
       "       \"['Documentary', 'Short', 'Family']\",\n",
       "       \"['Comedy', 'Fantasy', 'Mystery']\",\n",
       "       \"['Animation', 'Adventure', 'Drama']\",\n",
       "       \"['Family', 'Music', 'Romance']\", \"['Music']\",\n",
       "       \"['Drama', 'Romance', 'War']\", \"['Short', 'Action', 'Adventure']\",\n",
       "       \"['Documentary', 'History', 'Reality-TV']\",\n",
       "       \"['Drama', 'Mystery', 'Sci-Fi']\", \"['Short', 'News', 'Talk-Show']\",\n",
       "       \"['Crime', 'Drama', 'Family']\",\n",
       "       \"['Documentary', 'Animation', 'Short']\",\n",
       "       \"['Drama', 'Musical', 'Romance']\", \"['History', 'Romance']\",\n",
       "       \"['Biography', 'Music']\", \"['Documentary', 'Action', 'Adventure']\",\n",
       "       \"['Action', 'Sci-Fi', 'Thriller']\", \"['Action', 'War']\",\n",
       "       \"['Drama', 'History', 'Mystery']\",\n",
       "       \"['Game-Show', 'Horror', 'Reality-TV']\",\n",
       "       \"['Adventure', 'Drama', 'Romance']\",\n",
       "       \"['Adventure', 'Biography', 'Drama']\",\n",
       "       \"['Action', 'Drama', 'Sport']\",\n",
       "       \"['Documentary', 'Comedy', 'Family']\",\n",
       "       \"['Documentary', 'Drama', 'Family']\",\n",
       "       \"['Drama', 'Mystery', 'Western']\",\n",
       "       \"['Comedy', 'Romance', 'Sci-Fi']\", \"['Short', 'Drama', 'Sci-Fi']\",\n",
       "       \"['Comedy', 'Drama', 'Thriller']\", \"['Comedy', 'Thriller']\",\n",
       "       \"['Action', 'Horror', 'Mystery']\",\n",
       "       \"['Documentary', 'History', 'Music']\",\n",
       "       \"['Documentary', 'Biography', 'Western']\", \"['Comedy', 'Short']\",\n",
       "       \"['Family', 'Short', 'Comedy']\", \"['Adventure', 'Drama', 'War']\",\n",
       "       \"['Drama', 'Horror']\", \"['Animation', 'Drama', 'Mystery']\",\n",
       "       \"['Documentary', 'Adventure', 'Drama']\",\n",
       "       \"['Drama', 'Mystery', 'Romance']\",\n",
       "       \"['Action', 'Adventure', 'War']\", \"['Comedy', 'Crime', 'Family']\",\n",
       "       \"['Adventure', 'Mystery', 'Sci-Fi']\", \"['Short', 'Western']\",\n",
       "       \"['Adventure', 'Sci-Fi', 'Thriller']\",\n",
       "       \"['Comedy', 'Drama', 'Horror']\",\n",
       "       \"['Adventure', 'Mystery', 'Thriller']\",\n",
       "       \"['Adventure', 'Drama', 'Horror']\",\n",
       "       \"['Documentary', 'Crime', 'Sport']\",\n",
       "       \"['Animation', 'Comedy', 'Romance']\",\n",
       "       \"['Family', 'Fantasy', 'Horror']\",\n",
       "       \"['Action', 'Drama', 'Romance']\",\n",
       "       \"['Drama', 'Fantasy', 'Thriller']\", \"['Crime']\",\n",
       "       \"['Animation', 'Drama']\", \"['Musical', 'Romance', 'Short']\",\n",
       "       \"['Documentary', 'Short', 'Crime']\",\n",
       "       \"['Horror', 'Mystery', 'Reality-TV']\",\n",
       "       \"['Comedy', 'Crime', 'Reality-TV']\",\n",
       "       \"['Animation', 'Drama', 'Fantasy']\",\n",
       "       \"['Documentary', 'Adventure', 'Sport']\",\n",
       "       \"['Action', 'Crime', 'Sport']\", \"['Documentary', 'Animation']\",\n",
       "       \"['Short', 'Game-Show']\", \"['Romance', 'Thriller']\",\n",
       "       \"['Comedy', 'Horror', 'Thriller']\",\n",
       "       \"['Animation', 'Adventure', 'Sci-Fi']\",\n",
       "       \"['Action', 'Comedy', 'Romance']\",\n",
       "       \"['Comedy', 'History', 'Romance']\",\n",
       "       \"['Adventure', 'Fantasy', 'Horror']\",\n",
       "       \"['Documentary', 'Family', 'History']\",\n",
       "       \"['Drama', 'History', 'Sport']\", \"['Drama', 'Thriller', 'War']\",\n",
       "       \"['Adventure', 'Comedy']\", \"['Action', 'Adventure', 'Biography']\",\n",
       "       \"['Animation', 'Family', 'Romance']\", \"['Fantasy', 'Romance']\",\n",
       "       \"['Musical']\", \"['Adventure', 'Comedy', 'Horror']\",\n",
       "       \"['Mystery', 'Sci-Fi', 'Thriller']\", \"['Comedy', 'Drama', 'War']\",\n",
       "       \"['Short', 'Drama', 'Mystery']\",\n",
       "       \"['Animation', 'Comedy', 'Mystery']\",\n",
       "       \"['Animation', 'Action', 'Horror']\", \"['Fantasy', 'Horror']\",\n",
       "       \"['Game-Show']\", \"['Biography', 'Reality-TV', 'Talk-Show']\",\n",
       "       \"['Comedy', 'Family', 'Music']\", \"['Drama', 'Mystery']\",\n",
       "       \"['Animation', 'Short', 'Drama']\",\n",
       "       \"['Action', 'Crime', 'Romance']\",\n",
       "       \"['Animation', 'Adventure', 'Fantasy']\",\n",
       "       \"['Comedy', 'Drama', 'Mystery']\", \"['Short', 'Comedy', 'Sci-Fi']\",\n",
       "       \"['Family', 'Romance']\", \"['Short', 'Musical', 'Comedy']\",\n",
       "       \"['Documentary', 'Comedy', 'Fantasy']\",\n",
       "       \"['Drama', 'Family', 'Musical']\", \"['Documentary', 'Horror']\",\n",
       "       \"['Action', 'Comedy', 'Mystery']\", \"['Drama', 'Music', 'Mystery']\",\n",
       "       \"['Comedy', 'Sci-Fi']\", \"['Action', 'Family', 'Sport']\",\n",
       "       \"['Adventure', 'Comedy', 'Crime']\", \"['Family', 'Music']\",\n",
       "       \"['Comedy', 'Family', 'Talk-Show']\",\n",
       "       \"['Adventure', 'Crime', 'Drama']\",\n",
       "       \"['Drama', 'Fantasy', 'Sci-Fi']\", \"['Drama', 'Family', 'Romance']\",\n",
       "       \"['Short', 'Reality-TV']\", \"['Crime', 'Mystery', 'Sci-Fi']\",\n",
       "       \"['Animation', 'Action', 'Mystery']\",\n",
       "       \"['Mystery', 'Romance', 'Sci-Fi']\", \"['Drama', 'Reality-TV']\",\n",
       "       \"['Action', 'Horror']\", \"['Fantasy', 'Horror', 'Romance']\",\n",
       "       \"['Documentary', 'Crime', 'Music']\",\n",
       "       \"['Comedy', 'Horror', 'Reality-TV']\",\n",
       "       \"['Action', 'Comedy', 'Sci-Fi']\",\n",
       "       \"['Animation', 'Drama', 'Music']\", \"['Short', 'Comedy', 'Horror']\",\n",
       "       \"['Animation', 'Action', 'Sci-Fi']\",\n",
       "       \"['Documentary', 'Comedy', 'Horror']\",\n",
       "       \"['History', 'Sport', 'Thriller']\", \"['Drama', 'Short']\",\n",
       "       \"['Documentary', 'Crime', 'Drama']\",\n",
       "       \"['Adventure', 'Family', 'Reality-TV']\",\n",
       "       \"['Comedy', 'Reality-TV']\", \"['Drama', 'Horror', 'Music']\",\n",
       "       \"['Animation', 'Drama', 'Family']\",\n",
       "       \"['Family', 'Comedy', 'Action']\",\n",
       "       \"['Animation', 'Biography', 'Drama']\",\n",
       "       \"['Drama', 'Mystery', 'War']\",\n",
       "       \"['Documentary', 'Biography', 'Comedy']\", \"['Horror', 'Sci-Fi']\",\n",
       "       \"['Comedy', 'Crime', 'Thriller']\",\n",
       "       \"['Comedy', 'Crime', 'Western']\",\n",
       "       \"['Adventure', 'Drama', 'Mystery']\",\n",
       "       \"['Animation', 'Short', 'Mystery']\",\n",
       "       \"['Biography', 'Comedy', 'Crime']\",\n",
       "       \"['Action', 'Romance', 'Thriller']\",\n",
       "       \"['Drama', 'Romance', 'Sport']\",\n",
       "       \"['Documentary', 'Crime', 'Horror']\",\n",
       "       \"['Crime', 'Drama', 'Film-Noir']\", \"['Documentary', 'War']\",\n",
       "       \"['Crime', 'Drama', 'Sport']\", \"['Family', 'Fantasy', 'Musical']\",\n",
       "       \"['Drama', 'Musical', 'Sport']\", \"['Sci-Fi', 'Thriller']\",\n",
       "       \"['Fantasy', 'Horror', 'Sci-Fi']\",\n",
       "       \"['Documentary', 'Reality-TV', 'Romance']\",\n",
       "       \"['Adventure', 'Biography', 'Western']\",\n",
       "       \"['Animation', 'Adventure', 'Biography']\", \"['Biography']\",\n",
       "       \"['Action', 'Fantasy', 'Sci-Fi']\", \"['Documentary', 'Romance']\",\n",
       "       \"['Animation', 'Fantasy', 'Romance']\",\n",
       "       \"['Documentary', 'Adventure']\", \"['Short', 'Adventure', 'Comedy']\",\n",
       "       \"['Animation', 'Drama', 'Romance']\",\n",
       "       \"['Documentary', 'Drama', 'Mystery']\", \"['Animation', 'Sport']\",\n",
       "       \"['Comedy', 'Family', 'Sci-Fi']\",\n",
       "       \"['Adventure', 'Comedy', 'Mystery']\",\n",
       "       \"['Comedy', 'Fantasy', 'Music']\", \"['Biography', 'Comedy']\",\n",
       "       \"['Animation', 'Fantasy', 'Sci-Fi']\", \"['Comedy', 'History']\",\n",
       "       \"['Crime', 'Drama', 'Sci-Fi']\", \"['Drama', 'Thriller', 'Western']\",\n",
       "       \"['Drama', 'Fantasy', 'History']\", \"['Short', 'Action', 'Sport']\",\n",
       "       \"['Action', 'Mystery', 'Sci-Fi']\",\n",
       "       \"['Documentary', 'Short', 'War']\", \"['Family', 'Fantasy']\",\n",
       "       \"['Mystery']\", \"['Comedy', 'Mystery']\",\n",
       "       \"['Drama', 'Horror', 'Romance']\",\n",
       "       \"['Short', 'Romance', 'Thriller']\",\n",
       "       \"['Adventure', 'Biography', 'Crime']\", \"['Comedy', 'Game-Show']\",\n",
       "       \"['Comedy', 'Horror', 'Romance']\",\n",
       "       \"['Action', 'History', 'Thriller']\",\n",
       "       \"['Animation', 'Comedy', 'Crime']\",\n",
       "       \"['Drama', 'History', 'Western']\", \"['Musical', 'Romance']\",\n",
       "       \"['Documentary', 'Comedy', 'History']\",\n",
       "       \"['Crime', 'Drama', 'Music']\", \"['Action', 'Biography', 'Comedy']\",\n",
       "       \"['Drama', 'Sci-Fi', 'Thriller']\", \"['Short', 'Biography']\",\n",
       "       \"['Documentary', 'Animation', 'Biography']\",\n",
       "       \"['Short', 'Action', 'Family']\",\n",
       "       \"['Documentary', 'Short', 'Comedy']\",\n",
       "       \"['Documentary', 'Animation', 'Comedy']\",\n",
       "       \"['Adventure', 'Family']\", \"['Short', 'Comedy', 'Thriller']\",\n",
       "       \"['Adventure', 'Drama', 'History']\",\n",
       "       \"['Documentary', 'Short', 'Music']\", \"['Family', 'Comedy']\",\n",
       "       \"['Adventure', 'Horror', 'Sci-Fi']\",\n",
       "       \"['Action', 'Biography', 'History']\",\n",
       "       \"['Animation', 'Action', 'Thriller']\", \"['Sport', 'News']\",\n",
       "       \"['Documentary', 'Reality-TV']\", \"['Animation', 'Fantasy']\",\n",
       "       \"['Drama', 'Crime']\", \"['Short', 'Biography', 'History']\",\n",
       "       \"['Action', 'Drama', 'Music']\",\n",
       "       \"['Fantasy', 'Horror', 'Thriller']\",\n",
       "       \"['Documentary', 'Crime', 'Thriller']\",\n",
       "       \"['Short', 'Comedy', 'History']\", \"['Mystery', 'Romance']\",\n",
       "       \"['Comedy', 'Crime', 'Musical']\", \"['Crime', 'Mystery']\",\n",
       "       \"['Adventure', 'Family', 'Sci-Fi']\",\n",
       "       \"['Documentary', 'Reality-TV', 'Sport']\",\n",
       "       \"['Thriller', 'War', 'Western']\",\n",
       "       \"['Documentary', 'Comedy', 'Drama']\",\n",
       "       \"['Biography', 'Drama', 'Mystery']\",\n",
       "       \"['Comedy', 'Fantasy', 'Musical']\",\n",
       "       \"['Comedy', 'Family', 'Mystery']\", \"['Action', 'Mystery']\",\n",
       "       \"['Reality-TV', 'Talk-Show']\", \"['Drama', 'Sci-Fi']\",\n",
       "       \"['Short', 'Horror', 'Sci-Fi']\",\n",
       "       \"['Action', 'Fantasy', 'Romance']\",\n",
       "       \"['Drama', 'History', 'Musical']\", \"['Horror', 'Romance']\",\n",
       "       \"['Comedy', 'War']\", \"['Animation', 'Adventure']\",\n",
       "       \"['Adventure', 'Crime', 'Thriller']\",\n",
       "       \"['Short', 'Drama', 'Sport']\", \"['Short', 'Drama', 'Music']\",\n",
       "       \"['Documentary', 'Action', 'Crime']\",\n",
       "       \"['Biography', 'Comedy', 'Music']\",\n",
       "       \"['Adventure', 'Drama', 'Western']\",\n",
       "       \"['Drama', 'Sport', 'Thriller']\",\n",
       "       \"['Biography', 'Crime', 'Mystery']\", \"['Thriller', 'War']\",\n",
       "       \"['Documentary', 'Action']\", \"['Documentary', 'Short', 'News']\",\n",
       "       \"['Documentary', 'Drama', 'Sport']\",\n",
       "       \"['Fantasy', 'Romance', 'Thriller']\",\n",
       "       \"['Comedy', 'Musical', 'Short']\",\n",
       "       \"['Documentary', 'Short', 'Adventure']\",\n",
       "       \"['Action', 'Animation', 'Comedy']\",\n",
       "       \"['Action', 'Comedy', 'Sport']\", \"['Comedy', 'Crime', 'Romance']\",\n",
       "       \"['Action', 'Romance']\", \"['Crime', 'Family']\",\n",
       "       \"['Drama', 'Fantasy', 'War']\",\n",
       "       \"['Mystery', 'Romance', 'Thriller']\",\n",
       "       \"['Action', 'Drama', 'Musical']\",\n",
       "       \"['Comedy', 'Mystery', 'Romance']\",\n",
       "       \"['Comedy', 'Horror', 'Sci-Fi']\", \"['Action', 'Horror', 'War']\",\n",
       "       \"['Sport', 'Talk-Show']\", \"['Crime', 'Horror']\",\n",
       "       \"['Documentary', 'Drama', 'Music']\",\n",
       "       \"['Comedy', 'Horror', 'Talk-Show']\",\n",
       "       \"['Short', 'Musical', 'Drama']\",\n",
       "       \"['Documentary', 'Adventure', 'Comedy']\", \"['Horror', 'Comedy']\",\n",
       "       \"['Short', 'Comedy', 'Mystery']\",\n",
       "       \"['Biography', 'Drama', 'Fantasy']\",\n",
       "       \"['Adventure', 'Comedy', 'Game-Show']\",\n",
       "       \"['Drama', 'Family', 'History']\", \"['Western']\",\n",
       "       \"['Drama', 'Family', 'Sci-Fi']\", \"['Musical', 'Fantasy']\",\n",
       "       \"['Documentary', 'Biography', 'Musical']\",\n",
       "       \"['Biography', 'Drama', 'Musical']\",\n",
       "       \"['Documentary', 'Action', 'Drama']\", \"['Adventure', 'Western']\",\n",
       "       \"['Short', 'Crime', 'Drama']\", \"['Adventure', 'Crime', 'Sport']\",\n",
       "       \"['Romance', 'Comedy']\", \"['Short', 'Action', 'Romance']\",\n",
       "       \"['Short', 'Action', 'Mystery']\", \"['Action', 'Western']\",\n",
       "       \"['Action', 'Biography', 'Thriller']\", \"['Biography', 'History']\",\n",
       "       \"['Animation', 'Action']\", \"['Adventure', 'Comedy', 'Western']\",\n",
       "       \"['Documentary', 'Comedy', 'Musical']\",\n",
       "       \"['Adventure', 'Animation', 'Comedy']\",\n",
       "       \"['Comedy', 'Mystery', 'Thriller']\",\n",
       "       \"['Comedy', 'Family', 'Sport']\", \"['Action', 'Horror', 'Romance']\",\n",
       "       \"['Romance', 'Sport']\", \"['Animation', 'Adventure', 'History']\",\n",
       "       \"['Fantasy', 'Mystery', 'Sci-Fi']\",\n",
       "       \"['Adventure', 'Game-Show', 'Reality-TV']\",\n",
       "       \"['Drama', 'Comedy', 'Romance']\", \"['Drama', 'History', 'Music']\",\n",
       "       \"['Mystery', 'Sci-Fi']\", \"['Short', 'Action', 'Crime']\",\n",
       "       \"['Adventure', 'Horror']\", \"['Action', 'Short']\",\n",
       "       \"['Drama', 'Family', 'Music']\", \"['Crime', 'Sci-Fi']\",\n",
       "       \"['Comedy', 'Romance', 'Thriller']\",\n",
       "       \"['Adventure', 'Comedy', 'Musical']\",\n",
       "       \"['Action', 'History', 'Romance']\",\n",
       "       \"['Fantasy', 'Mystery', 'Thriller']\", \"['Family', 'Short']\",\n",
       "       \"['Adventure', 'Musical']\", \"['Drama', 'Horror', 'Musical']\",\n",
       "       \"['Animation', 'Musical']\", \"['Short', 'Family', 'Music']\",\n",
       "       \"['Comedy', 'Mystery', 'Sci-Fi']\",\n",
       "       \"['Animation', 'Short', 'Music']\",\n",
       "       \"['Comedy', 'Drama', 'Talk-Show']\",\n",
       "       \"['Animation', 'Mystery', 'Sci-Fi']\", \"['Adventure', 'Romance']\",\n",
       "       \"['Documentary', 'History', 'News']\"], dtype=object)"
      ]
     },
     "execution_count": 16,
     "metadata": {},
     "output_type": "execute_result"
    }
   ],
   "source": [
    "df.loc[df['Number of Ratings'] < 0, 'Number of Ratings'] = 0  # Set negative values to 0\n",
    "median_value = df['Number of Ratings'].median()  # Calculate median\n",
    "df['Number of Ratings'] = df['Number of Ratings'].replace(0, median_value)  # Replace 0 with median\n",
    "\n",
    "median_value = df['Rating'].median()  # Calculate median\n",
    "df['Rating'].fillna(df['Rating'].median(), inplace=True)\n",
    "\n",
    "df_with_ratings = df.loc[df['Number of Ratings'] > 0]\n",
    "df_with_ratings.sample(3)\n",
    "df_with_ratings.shape\n",
    "df_with_ratings.Rating.isnull().sum()\n",
    "df_with_ratings.Rating.isnull().sum()\n",
    "df_with_ratings.Genre.unique()"
   ]
  },
  {
   "cell_type": "code",
   "execution_count": 17,
   "metadata": {},
   "outputs": [
    {
     "name": "stderr",
     "output_type": "stream",
     "text": [
      "/tmp/ipykernel_77474/103863943.py:4: FutureWarning: A value is trying to be set on a copy of a DataFrame or Series through chained assignment using an inplace method.\n",
      "The behavior will change in pandas 3.0. This inplace method will never work because the intermediate object on which we are setting values always behaves as a copy.\n",
      "\n",
      "For example, when doing 'df[col].method(value, inplace=True)', try using 'df.method({col: value}, inplace=True)' or df[col] = df[col].method(value) instead, to perform the operation inplace on the original object.\n",
      "\n",
      "\n",
      "  df_with_ratings['Release Date'].fillna(0, inplace = True)\n",
      "/tmp/ipykernel_77474/103863943.py:4: FutureWarning: Setting an item of incompatible dtype is deprecated and will raise an error in a future version of pandas. Value '0' has dtype incompatible with datetime64[ns], please explicitly cast to a compatible dtype first.\n",
      "  df_with_ratings['Release Date'].fillna(0, inplace = True)\n"
     ]
    },
    {
     "data": {
      "text/plain": [
       "(11089, 13)"
      ]
     },
     "execution_count": 17,
     "metadata": {},
     "output_type": "execute_result"
    }
   ],
   "source": [
    "df_with_ratings.Genre.isnull().sum()\n",
    "df_with_ratings.dropna(subset=['Genre'], inplace = True)\n",
    "df_with_ratings.isnull().sum()\n",
    "df_with_ratings['Release Date'].fillna(0, inplace = True)\n",
    "df_with_ratings.shape"
   ]
  },
  {
   "cell_type": "code",
   "execution_count": 18,
   "metadata": {},
   "outputs": [
    {
     "name": "stderr",
     "output_type": "stream",
     "text": [
      "/tmp/ipykernel_77474/1913763075.py:1: FutureWarning: A value is trying to be set on a copy of a DataFrame or Series through chained assignment using an inplace method.\n",
      "The behavior will change in pandas 3.0. This inplace method will never work because the intermediate object on which we are setting values always behaves as a copy.\n",
      "\n",
      "For example, when doing 'df[col].method(value, inplace=True)', try using 'df.method({col: value}, inplace=True)' or df[col] = df[col].method(value) instead, to perform the operation inplace on the original object.\n",
      "\n",
      "\n",
      "  df_with_ratings['Key Words'].fillna('unknown', inplace = True)\n",
      "/tmp/ipykernel_77474/1913763075.py:2: FutureWarning: A value is trying to be set on a copy of a DataFrame or Series through chained assignment using an inplace method.\n",
      "The behavior will change in pandas 3.0. This inplace method will never work because the intermediate object on which we are setting values always behaves as a copy.\n",
      "\n",
      "For example, when doing 'df[col].method(value, inplace=True)', try using 'df.method({col: value}, inplace=True)' or df[col] = df[col].method(value) instead, to perform the operation inplace on the original object.\n",
      "\n",
      "\n",
      "  df_with_ratings['Description'].fillna('unknown', inplace = True)\n"
     ]
    },
    {
     "data": {
      "text/plain": [
       "Unnamed: 0            0\n",
       "Title                 0\n",
       "Release Date          0\n",
       "Hours Viewed          0\n",
       "Number of Ratings     0\n",
       "Rating                0\n",
       "Genre                 0\n",
       "Key Words             0\n",
       "Description           0\n",
       "Release Year          0\n",
       "Release Month         0\n",
       "Release Day           0\n",
       "Available Globally    0\n",
       "dtype: int64"
      ]
     },
     "execution_count": 18,
     "metadata": {},
     "output_type": "execute_result"
    }
   ],
   "source": [
    "df_with_ratings['Key Words'].fillna('unknown', inplace = True)\n",
    "df_with_ratings['Description'].fillna('unknown', inplace = True)\n",
    "df_with_ratings.isnull().sum()"
   ]
  },
  {
   "cell_type": "code",
   "execution_count": 19,
   "metadata": {},
   "outputs": [
    {
     "data": {
      "text/plain": [
       "{'Action',\n",
       " 'Adventure',\n",
       " 'Animation',\n",
       " 'Biography',\n",
       " 'Comedy',\n",
       " 'Crime',\n",
       " 'Documentary',\n",
       " 'Drama',\n",
       " 'Family',\n",
       " 'Fantasy',\n",
       " 'Film-Noir',\n",
       " 'Game-Show',\n",
       " 'History',\n",
       " 'Horror',\n",
       " 'Music',\n",
       " 'Musical',\n",
       " 'Mystery',\n",
       " 'News',\n",
       " 'Reality-TV',\n",
       " 'Romance',\n",
       " 'Sci-Fi',\n",
       " 'Short',\n",
       " 'Sport',\n",
       " 'Talk-Show',\n",
       " 'Thriller',\n",
       " 'War',\n",
       " 'Western'}"
      ]
     },
     "execution_count": 19,
     "metadata": {},
     "output_type": "execute_result"
    }
   ],
   "source": [
    "all_genres = set(genre.strip(\"[]\").replace(\"'\", \"\") for genres in df_with_ratings['Genre'].str.split(\", \") for genre in genres)\n",
    "all_genres"
   ]
  },
  {
   "cell_type": "code",
   "execution_count": 20,
   "metadata": {},
   "outputs": [
    {
     "name": "stdout",
     "output_type": "stream",
     "text": [
      "Fantasy --->\n",
      "Title     Demon Slayer: Kimetsu no Yaiba: Entertainment ...\n",
      "Rating                                                  8.9\n",
      "Genre                    ['Animation', 'Action', 'Fantasy']\n",
      "Name: 495, dtype: object\n",
      "---------------------------------------------\n",
      "Short --->\n",
      "Title     Big Time Rush: Season 2\n",
      "Rating                       10.0\n",
      "Genre         ['Short', 'Comedy']\n",
      "Name: 3251, dtype: object\n",
      "---------------------------------------------\n",
      "Thriller --->\n",
      "Title     The Marked Heart: Season 2 // Pálpito: Tempora...\n",
      "Rating                                                  8.7\n",
      "Genre                       ['Drama', 'Horror', 'Thriller']\n",
      "Name: 23, dtype: object\n",
      "---------------------------------------------\n",
      "Documentary --->\n",
      "Title     Welcome to Monster High\n",
      "Rating                        9.6\n",
      "Genre             ['Documentary']\n",
      "Name: 9285, dtype: object\n",
      "---------------------------------------------\n",
      "Game-Show --->\n",
      "Title     The Great British Baking Show: Collection 10\n",
      "Rating                                             8.6\n",
      "Genre                      ['Game-Show', 'Reality-TV']\n",
      "Name: 1177, dtype: object\n",
      "---------------------------------------------\n",
      "History --->\n",
      "Title     Pokémon Journeys: The Series: Part 3\n",
      "Rating                                     9.3\n",
      "Genre     ['Documentary', 'Family', 'History']\n",
      "Name: 3616, dtype: object\n",
      "---------------------------------------------\n",
      "Western --->\n",
      "Title         Django Unchained\n",
      "Rating                     8.5\n",
      "Genre     ['Drama', 'Western']\n",
      "Name: 2162, dtype: object\n",
      "---------------------------------------------\n",
      "Adventure --->\n",
      "Title         Mr. Boss // 미스터 보스\n",
      "Rating                       9.4\n",
      "Genre     ['Short', 'Adventure']\n",
      "Name: 11899, dtype: object\n",
      "---------------------------------------------\n",
      "Sci-Fi --->\n",
      "Title              My Dead Ex: Season 1\n",
      "Rating                              9.2\n",
      "Genre     ['Drama', 'Horror', 'Sci-Fi']\n",
      "Name: 9968, dtype: object\n",
      "---------------------------------------------\n",
      "Sport --->\n",
      "Title     The Powerpuff Girls (1998): Season 1\n",
      "Rating                                     9.0\n",
      "Genre                 ['Documentary', 'Sport']\n",
      "Name: 1805, dtype: object\n",
      "---------------------------------------------\n",
      "War --->\n",
      "Title     Saving Private Ryan\n",
      "Rating                    8.6\n",
      "Genre        ['Drama', 'War']\n",
      "Name: 5998, dtype: object\n",
      "---------------------------------------------\n",
      "Biography --->\n",
      "Title     David Attenborough: A Life on Our Planet\n",
      "Rating                                         8.9\n",
      "Genre                 ['Documentary', 'Biography']\n",
      "Name: 3588, dtype: object\n",
      "---------------------------------------------\n",
      "Talk-Show --->\n",
      "Title     Peaky Blinders: Season 2\n",
      "Rating                         9.3\n",
      "Genre                ['Talk-Show']\n",
      "Name: 253, dtype: object\n",
      "---------------------------------------------\n",
      "Music --->\n",
      "Title     Be Together: Season 1 // 我和我們在一起: 第 1 季 // 我和我...\n",
      "Rating                                                  9.4\n",
      "Genre                     ['Documentary', 'Short', 'Music']\n",
      "Name: 7541, dtype: object\n",
      "---------------------------------------------\n",
      "Film-Noir --->\n",
      "Title                  Possessed // Rasuk\n",
      "Rating                                7.1\n",
      "Genre     ['Crime', 'Drama', 'Film-Noir']\n",
      "Name: 5432, dtype: object\n",
      "---------------------------------------------\n",
      "Reality-TV --->\n",
      "Title     Old People's Home for 4 Year Olds: Season 1\n",
      "Rating                                            9.1\n",
      "Genre                                  ['Reality-TV']\n",
      "Name: 10013, dtype: object\n",
      "---------------------------------------------\n",
      "Musical --->\n",
      "Title                   Somos.: Season 1\n",
      "Rating                               8.2\n",
      "Genre     ['Comedy', 'Drama', 'Musical']\n",
      "Name: 3818, dtype: object\n",
      "---------------------------------------------\n",
      "Drama --->\n",
      "Title     One Day at a Time: Season 1\n",
      "Rating                            9.7\n",
      "Genre        ['Documentary', 'Drama']\n",
      "Name: 1898, dtype: object\n",
      "---------------------------------------------\n",
      "Crime --->\n",
      "Title     Better Call Saul: Season 5\n",
      "Rating                           9.0\n",
      "Genre             ['Crime', 'Drama']\n",
      "Name: 268, dtype: object\n",
      "---------------------------------------------\n",
      "Mystery --->\n",
      "Title        Last Tango in Halifax: Season 1\n",
      "Rating                                   8.6\n",
      "Genre     ['Adventure', 'Horror', 'Mystery']\n",
      "Name: 7289, dtype: object\n",
      "---------------------------------------------\n",
      "Action --->\n",
      "Title     Sailor Moon Crystal: Season 2 // 美少女戦士セーラームーン ...\n",
      "Rating                                                  9.4\n",
      "Genre                                            ['Action']\n",
      "Name: 6205, dtype: object\n",
      "---------------------------------------------\n",
      "Romance --->\n",
      "Title     You Are My Makeup Artist: Season 1 // มัดหัวใจ...\n",
      "Rating                                                  9.2\n",
      "Genre                                 ['Comedy', 'Romance']\n",
      "Name: 5681, dtype: object\n",
      "---------------------------------------------\n",
      "News --->\n",
      "Title     Trollhunters: Tales of Arcadia: Part 1\n",
      "Rating                                       8.6\n",
      "Genre                          ['Short', 'News']\n",
      "Name: 506, dtype: object\n",
      "---------------------------------------------\n",
      "Animation --->\n",
      "Title       Avatar: The Last Airbender: Book 2\n",
      "Rating                                     9.3\n",
      "Genre     ['Animation', 'Action', 'Adventure']\n",
      "Name: 331, dtype: object\n",
      "---------------------------------------------\n",
      "Family --->\n",
      "Title     Unit 42: Season 2 // Unité 42: Saison 2\n",
      "Rating                                        9.0\n",
      "Genre            ['Animation', 'Drama', 'Family']\n",
      "Name: 8516, dtype: object\n",
      "---------------------------------------------\n",
      "Horror --->\n",
      "Title     Moonshine (2021): Season 1\n",
      "Rating                           9.3\n",
      "Genre           ['Comedy', 'Horror']\n",
      "Name: 11886, dtype: object\n",
      "---------------------------------------------\n",
      "Comedy --->\n",
      "Title     Big Time Rush: Season 1\n",
      "Rating                       10.0\n",
      "Genre         ['Short', 'Comedy']\n",
      "Name: 3831, dtype: object\n",
      "---------------------------------------------\n"
     ]
    }
   ],
   "source": [
    "len(all_genres)\n",
    "for genre in all_genres:\n",
    "    print(genre,'--->')\n",
    "    print(df_with_ratings[df_with_ratings['Genre'].apply(lambda x: genre in x)].sort_values(by='Rating', ascending=False).iloc[1][['Title', 'Rating', 'Genre']])\n",
    "    print('---------------------------------------------')"
   ]
  },
  {
   "cell_type": "code",
   "execution_count": 21,
   "metadata": {},
   "outputs": [
    {
     "name": "stdout",
     "output_type": "stream",
     "text": [
      "<class 'pandas.core.frame.DataFrame'>\n",
      "Index: 11089 entries, 0 to 12936\n",
      "Data columns (total 13 columns):\n",
      " #   Column              Non-Null Count  Dtype  \n",
      "---  ------              --------------  -----  \n",
      " 0   Unnamed: 0          11089 non-null  int64  \n",
      " 1   Title               11089 non-null  object \n",
      " 2   Release Date        11089 non-null  object \n",
      " 3   Hours Viewed        11089 non-null  int64  \n",
      " 4   Number of Ratings   11089 non-null  int64  \n",
      " 5   Rating              11089 non-null  float64\n",
      " 6   Genre               11089 non-null  object \n",
      " 7   Key Words           11089 non-null  object \n",
      " 8   Description         11089 non-null  object \n",
      " 9   Release Year        11089 non-null  int64  \n",
      " 10  Release Month       11089 non-null  int64  \n",
      " 11  Release Day         11089 non-null  object \n",
      " 12  Available Globally  11089 non-null  object \n",
      "dtypes: float64(1), int64(5), object(7)\n",
      "memory usage: 1.2+ MB\n"
     ]
    }
   ],
   "source": [
    "df_with_ratings.info()"
   ]
  },
  {
   "cell_type": "code",
   "execution_count": 22,
   "metadata": {},
   "outputs": [],
   "source": [
    "df_with_ratings.to_csv(\"cleaned.csv\")"
   ]
  }
 ],
 "metadata": {
  "kernelspec": {
   "display_name": "venv",
   "language": "python",
   "name": "python3"
  },
  "language_info": {
   "codemirror_mode": {
    "name": "ipython",
    "version": 3
   },
   "file_extension": ".py",
   "mimetype": "text/x-python",
   "name": "python",
   "nbconvert_exporter": "python",
   "pygments_lexer": "ipython3",
   "version": "3.13.2"
  }
 },
 "nbformat": 4,
 "nbformat_minor": 2
}
